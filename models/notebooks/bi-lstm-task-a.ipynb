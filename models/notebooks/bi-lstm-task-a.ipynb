{
 "cells": [
  {
   "cell_type": "markdown",
   "metadata": {
    "id": "Yjk_3Iwb1Qio"
   },
   "source": [
    "# Preparing Data"
   ]
  },
  {
   "cell_type": "code",
   "execution_count": null,
   "metadata": {
    "id": "KSWpbEoR0cr_"
   },
   "outputs": [],
   "source": [
    "!gdown 1rEGLQaHV16l0cKpv4zTPZs071a8YMyvl"
   ]
  },
  {
   "cell_type": "code",
   "execution_count": null,
   "metadata": {
    "id": "5om2XHE90QiN"
   },
   "outputs": [],
   "source": [
    "import pandas as pd"
   ]
  },
  {
   "cell_type": "code",
   "execution_count": null,
   "metadata": {
    "colab": {
     "base_uri": "https://localhost:8080/",
     "height": 424
    },
    "id": "72dt_8nz0p7b",
    "outputId": "db76ec60-20eb-43e6-905e-79fe77f64a2b"
   },
   "outputs": [
    {
     "data": {
      "text/html": [
       "\n",
       "  <div id=\"df-68ca7513-31df-4c9a-a8f4-8246bd0ac150\">\n",
       "    <div class=\"colab-df-container\">\n",
       "      <div>\n",
       "<style scoped>\n",
       "    .dataframe tbody tr th:only-of-type {\n",
       "        vertical-align: middle;\n",
       "    }\n",
       "\n",
       "    .dataframe tbody tr th {\n",
       "        vertical-align: top;\n",
       "    }\n",
       "\n",
       "    .dataframe thead th {\n",
       "        text-align: right;\n",
       "    }\n",
       "</style>\n",
       "<table border=\"1\" class=\"dataframe\">\n",
       "  <thead>\n",
       "    <tr style=\"text-align: right;\">\n",
       "      <th></th>\n",
       "      <th>file_name</th>\n",
       "      <th>meme_type</th>\n",
       "      <th>text</th>\n",
       "    </tr>\n",
       "  </thead>\n",
       "  <tbody>\n",
       "    <tr>\n",
       "      <th>0</th>\n",
       "      <td>img24.jpg</td>\n",
       "      <td>hate_speech</td>\n",
       "      <td>انا نظري ضعيف ومش هخش الجيش اقسم بالله انت قناص</td>\n",
       "    </tr>\n",
       "    <tr>\n",
       "      <th>1</th>\n",
       "      <td>img28.jpg</td>\n",
       "      <td>hate_speech</td>\n",
       "      <td>لما فيمينست تتابع هانتر وتعرف غون بيبحث ابوه و...</td>\n",
       "    </tr>\n",
       "    <tr>\n",
       "      <th>2</th>\n",
       "      <td>img10.jpg</td>\n",
       "      <td>hate_speech</td>\n",
       "      <td>لا أحد النسويات</td>\n",
       "    </tr>\n",
       "    <tr>\n",
       "      <th>3</th>\n",
       "      <td>img7.jpg</td>\n",
       "      <td>hate_speech</td>\n",
       "      <td>يعني لو قلعنا الحجاب وتعرينا هنطلع القمر أوماااال</td>\n",
       "    </tr>\n",
       "    <tr>\n",
       "      <th>4</th>\n",
       "      <td>img16.jpg</td>\n",
       "      <td>hate_speech</td>\n",
       "      <td>فيمينيست عربية نفسي اطلع اوروبا حرية وتحرر و ح...</td>\n",
       "    </tr>\n",
       "    <tr>\n",
       "      <th>...</th>\n",
       "      <td>...</td>\n",
       "      <td>...</td>\n",
       "      <td>...</td>\n",
       "    </tr>\n",
       "    <tr>\n",
       "      <th>695</th>\n",
       "      <td>IMG_269.jpg</td>\n",
       "      <td>only humor</td>\n",
       "      <td>لاتوجد نساء اجمل منك مهما بحثت والله؟! يعني بح...</td>\n",
       "    </tr>\n",
       "    <tr>\n",
       "      <th>696</th>\n",
       "      <td>IMG_233.jpg</td>\n",
       "      <td>only humor</td>\n",
       "      <td>أنا أخوض حرب لا أعلم عنها شيئا</td>\n",
       "    </tr>\n",
       "    <tr>\n",
       "      <th>697</th>\n",
       "      <td>IMG_138.jpg</td>\n",
       "      <td>only humor</td>\n",
       "      <td>لما اروح عند دكتور الاسنان يادكتور بالله عليك ...</td>\n",
       "    </tr>\n",
       "    <tr>\n",
       "      <th>698</th>\n",
       "      <td>IMG_705.jpg</td>\n",
       "      <td>only humor</td>\n",
       "      <td>الضربة اللي متموتش تقوي لأ انا عايزاللي تموت</td>\n",
       "    </tr>\n",
       "    <tr>\n",
       "      <th>699</th>\n",
       "      <td>IMG_692.jpg</td>\n",
       "      <td>only humor</td>\n",
       "      <td>لقيتلكم حبة كورنا مش قلنالكم بنشف وبموت لحاله</td>\n",
       "    </tr>\n",
       "  </tbody>\n",
       "</table>\n",
       "<p>1698 rows × 3 columns</p>\n",
       "</div>\n",
       "      <button class=\"colab-df-convert\" onclick=\"convertToInteractive('df-68ca7513-31df-4c9a-a8f4-8246bd0ac150')\"\n",
       "              title=\"Convert this dataframe to an interactive table.\"\n",
       "              style=\"display:none;\">\n",
       "        \n",
       "  <svg xmlns=\"http://www.w3.org/2000/svg\" height=\"24px\"viewBox=\"0 0 24 24\"\n",
       "       width=\"24px\">\n",
       "    <path d=\"M0 0h24v24H0V0z\" fill=\"none\"/>\n",
       "    <path d=\"M18.56 5.44l.94 2.06.94-2.06 2.06-.94-2.06-.94-.94-2.06-.94 2.06-2.06.94zm-11 1L8.5 8.5l.94-2.06 2.06-.94-2.06-.94L8.5 2.5l-.94 2.06-2.06.94zm10 10l.94 2.06.94-2.06 2.06-.94-2.06-.94-.94-2.06-.94 2.06-2.06.94z\"/><path d=\"M17.41 7.96l-1.37-1.37c-.4-.4-.92-.59-1.43-.59-.52 0-1.04.2-1.43.59L10.3 9.45l-7.72 7.72c-.78.78-.78 2.05 0 2.83L4 21.41c.39.39.9.59 1.41.59.51 0 1.02-.2 1.41-.59l7.78-7.78 2.81-2.81c.8-.78.8-2.07 0-2.86zM5.41 20L4 18.59l7.72-7.72 1.47 1.35L5.41 20z\"/>\n",
       "  </svg>\n",
       "      </button>\n",
       "      \n",
       "  <style>\n",
       "    .colab-df-container {\n",
       "      display:flex;\n",
       "      flex-wrap:wrap;\n",
       "      gap: 12px;\n",
       "    }\n",
       "\n",
       "    .colab-df-convert {\n",
       "      background-color: #E8F0FE;\n",
       "      border: none;\n",
       "      border-radius: 50%;\n",
       "      cursor: pointer;\n",
       "      display: none;\n",
       "      fill: #1967D2;\n",
       "      height: 32px;\n",
       "      padding: 0 0 0 0;\n",
       "      width: 32px;\n",
       "    }\n",
       "\n",
       "    .colab-df-convert:hover {\n",
       "      background-color: #E2EBFA;\n",
       "      box-shadow: 0px 1px 2px rgba(60, 64, 67, 0.3), 0px 1px 3px 1px rgba(60, 64, 67, 0.15);\n",
       "      fill: #174EA6;\n",
       "    }\n",
       "\n",
       "    [theme=dark] .colab-df-convert {\n",
       "      background-color: #3B4455;\n",
       "      fill: #D2E3FC;\n",
       "    }\n",
       "\n",
       "    [theme=dark] .colab-df-convert:hover {\n",
       "      background-color: #434B5C;\n",
       "      box-shadow: 0px 1px 3px 1px rgba(0, 0, 0, 0.15);\n",
       "      filter: drop-shadow(0px 1px 2px rgba(0, 0, 0, 0.3));\n",
       "      fill: #FFFFFF;\n",
       "    }\n",
       "  </style>\n",
       "\n",
       "      <script>\n",
       "        const buttonEl =\n",
       "          document.querySelector('#df-68ca7513-31df-4c9a-a8f4-8246bd0ac150 button.colab-df-convert');\n",
       "        buttonEl.style.display =\n",
       "          google.colab.kernel.accessAllowed ? 'block' : 'none';\n",
       "\n",
       "        async function convertToInteractive(key) {\n",
       "          const element = document.querySelector('#df-68ca7513-31df-4c9a-a8f4-8246bd0ac150');\n",
       "          const dataTable =\n",
       "            await google.colab.kernel.invokeFunction('convertToInteractive',\n",
       "                                                     [key], {});\n",
       "          if (!dataTable) return;\n",
       "\n",
       "          const docLinkHtml = 'Like what you see? Visit the ' +\n",
       "            '<a target=\"_blank\" href=https://colab.research.google.com/notebooks/data_table.ipynb>data table notebook</a>'\n",
       "            + ' to learn more about interactive tables.';\n",
       "          element.innerHTML = '';\n",
       "          dataTable['output_type'] = 'display_data';\n",
       "          await google.colab.output.renderOutput(dataTable, element);\n",
       "          const docLink = document.createElement('div');\n",
       "          docLink.innerHTML = docLinkHtml;\n",
       "          element.appendChild(docLink);\n",
       "        }\n",
       "      </script>\n",
       "    </div>\n",
       "  </div>\n",
       "  "
      ],
      "text/plain": [
       "       file_name    meme_type  \\\n",
       "0      img24.jpg  hate_speech   \n",
       "1      img28.jpg  hate_speech   \n",
       "2      img10.jpg  hate_speech   \n",
       "3       img7.jpg  hate_speech   \n",
       "4      img16.jpg  hate_speech   \n",
       "..           ...          ...   \n",
       "695  IMG_269.jpg   only humor   \n",
       "696  IMG_233.jpg   only humor   \n",
       "697  IMG_138.jpg   only humor   \n",
       "698  IMG_705.jpg   only humor   \n",
       "699  IMG_692.jpg   only humor   \n",
       "\n",
       "                                                  text  \n",
       "0      انا نظري ضعيف ومش هخش الجيش اقسم بالله انت قناص  \n",
       "1    لما فيمينست تتابع هانتر وتعرف غون بيبحث ابوه و...  \n",
       "2                                      لا أحد النسويات  \n",
       "3    يعني لو قلعنا الحجاب وتعرينا هنطلع القمر أوماااال  \n",
       "4    فيمينيست عربية نفسي اطلع اوروبا حرية وتحرر و ح...  \n",
       "..                                                 ...  \n",
       "695  لاتوجد نساء اجمل منك مهما بحثت والله؟! يعني بح...  \n",
       "696                     أنا أخوض حرب لا أعلم عنها شيئا  \n",
       "697  لما اروح عند دكتور الاسنان يادكتور بالله عليك ...  \n",
       "698       الضربة اللي متموتش تقوي لأ انا عايزاللي تموت  \n",
       "699      لقيتلكم حبة كورنا مش قلنالكم بنشف وبموت لحاله  \n",
       "\n",
       "[1698 rows x 3 columns]"
      ]
     },
     "execution_count": 3,
     "metadata": {},
     "output_type": "execute_result"
    }
   ],
   "source": [
    "df = pd.read_csv('/content/task_a.csv', index_col='Unnamed: 0')\n",
    "df"
   ]
  },
  {
   "cell_type": "code",
   "execution_count": null,
   "metadata": {
    "id": "r6M-d14q1maX"
   },
   "outputs": [],
   "source": [
    "LABELS = ['hate_speech', 'only humor', 'only offensive']\n",
    "one_hot_encoded = pd.get_dummies(df.meme_type, columns=LABELS)"
   ]
  },
  {
   "cell_type": "code",
   "execution_count": null,
   "metadata": {
    "colab": {
     "base_uri": "https://localhost:8080/",
     "height": 424
    },
    "id": "oq8gWx2x52p2",
    "outputId": "83bd1845-b61d-4517-dd8d-e41aa53bbe7f"
   },
   "outputs": [
    {
     "data": {
      "text/html": [
       "\n",
       "  <div id=\"df-0a6b2a97-7c24-4ceb-b8a2-8e7bc3e188ad\">\n",
       "    <div class=\"colab-df-container\">\n",
       "      <div>\n",
       "<style scoped>\n",
       "    .dataframe tbody tr th:only-of-type {\n",
       "        vertical-align: middle;\n",
       "    }\n",
       "\n",
       "    .dataframe tbody tr th {\n",
       "        vertical-align: top;\n",
       "    }\n",
       "\n",
       "    .dataframe thead th {\n",
       "        text-align: right;\n",
       "    }\n",
       "</style>\n",
       "<table border=\"1\" class=\"dataframe\">\n",
       "  <thead>\n",
       "    <tr style=\"text-align: right;\">\n",
       "      <th></th>\n",
       "      <th>hate_speech</th>\n",
       "      <th>only humor</th>\n",
       "      <th>only offensive</th>\n",
       "    </tr>\n",
       "  </thead>\n",
       "  <tbody>\n",
       "    <tr>\n",
       "      <th>0</th>\n",
       "      <td>1</td>\n",
       "      <td>0</td>\n",
       "      <td>0</td>\n",
       "    </tr>\n",
       "    <tr>\n",
       "      <th>1</th>\n",
       "      <td>1</td>\n",
       "      <td>0</td>\n",
       "      <td>0</td>\n",
       "    </tr>\n",
       "    <tr>\n",
       "      <th>2</th>\n",
       "      <td>1</td>\n",
       "      <td>0</td>\n",
       "      <td>0</td>\n",
       "    </tr>\n",
       "    <tr>\n",
       "      <th>3</th>\n",
       "      <td>1</td>\n",
       "      <td>0</td>\n",
       "      <td>0</td>\n",
       "    </tr>\n",
       "    <tr>\n",
       "      <th>4</th>\n",
       "      <td>1</td>\n",
       "      <td>0</td>\n",
       "      <td>0</td>\n",
       "    </tr>\n",
       "    <tr>\n",
       "      <th>...</th>\n",
       "      <td>...</td>\n",
       "      <td>...</td>\n",
       "      <td>...</td>\n",
       "    </tr>\n",
       "    <tr>\n",
       "      <th>695</th>\n",
       "      <td>0</td>\n",
       "      <td>1</td>\n",
       "      <td>0</td>\n",
       "    </tr>\n",
       "    <tr>\n",
       "      <th>696</th>\n",
       "      <td>0</td>\n",
       "      <td>1</td>\n",
       "      <td>0</td>\n",
       "    </tr>\n",
       "    <tr>\n",
       "      <th>697</th>\n",
       "      <td>0</td>\n",
       "      <td>1</td>\n",
       "      <td>0</td>\n",
       "    </tr>\n",
       "    <tr>\n",
       "      <th>698</th>\n",
       "      <td>0</td>\n",
       "      <td>1</td>\n",
       "      <td>0</td>\n",
       "    </tr>\n",
       "    <tr>\n",
       "      <th>699</th>\n",
       "      <td>0</td>\n",
       "      <td>1</td>\n",
       "      <td>0</td>\n",
       "    </tr>\n",
       "  </tbody>\n",
       "</table>\n",
       "<p>1698 rows × 3 columns</p>\n",
       "</div>\n",
       "      <button class=\"colab-df-convert\" onclick=\"convertToInteractive('df-0a6b2a97-7c24-4ceb-b8a2-8e7bc3e188ad')\"\n",
       "              title=\"Convert this dataframe to an interactive table.\"\n",
       "              style=\"display:none;\">\n",
       "        \n",
       "  <svg xmlns=\"http://www.w3.org/2000/svg\" height=\"24px\"viewBox=\"0 0 24 24\"\n",
       "       width=\"24px\">\n",
       "    <path d=\"M0 0h24v24H0V0z\" fill=\"none\"/>\n",
       "    <path d=\"M18.56 5.44l.94 2.06.94-2.06 2.06-.94-2.06-.94-.94-2.06-.94 2.06-2.06.94zm-11 1L8.5 8.5l.94-2.06 2.06-.94-2.06-.94L8.5 2.5l-.94 2.06-2.06.94zm10 10l.94 2.06.94-2.06 2.06-.94-2.06-.94-.94-2.06-.94 2.06-2.06.94z\"/><path d=\"M17.41 7.96l-1.37-1.37c-.4-.4-.92-.59-1.43-.59-.52 0-1.04.2-1.43.59L10.3 9.45l-7.72 7.72c-.78.78-.78 2.05 0 2.83L4 21.41c.39.39.9.59 1.41.59.51 0 1.02-.2 1.41-.59l7.78-7.78 2.81-2.81c.8-.78.8-2.07 0-2.86zM5.41 20L4 18.59l7.72-7.72 1.47 1.35L5.41 20z\"/>\n",
       "  </svg>\n",
       "      </button>\n",
       "      \n",
       "  <style>\n",
       "    .colab-df-container {\n",
       "      display:flex;\n",
       "      flex-wrap:wrap;\n",
       "      gap: 12px;\n",
       "    }\n",
       "\n",
       "    .colab-df-convert {\n",
       "      background-color: #E8F0FE;\n",
       "      border: none;\n",
       "      border-radius: 50%;\n",
       "      cursor: pointer;\n",
       "      display: none;\n",
       "      fill: #1967D2;\n",
       "      height: 32px;\n",
       "      padding: 0 0 0 0;\n",
       "      width: 32px;\n",
       "    }\n",
       "\n",
       "    .colab-df-convert:hover {\n",
       "      background-color: #E2EBFA;\n",
       "      box-shadow: 0px 1px 2px rgba(60, 64, 67, 0.3), 0px 1px 3px 1px rgba(60, 64, 67, 0.15);\n",
       "      fill: #174EA6;\n",
       "    }\n",
       "\n",
       "    [theme=dark] .colab-df-convert {\n",
       "      background-color: #3B4455;\n",
       "      fill: #D2E3FC;\n",
       "    }\n",
       "\n",
       "    [theme=dark] .colab-df-convert:hover {\n",
       "      background-color: #434B5C;\n",
       "      box-shadow: 0px 1px 3px 1px rgba(0, 0, 0, 0.15);\n",
       "      filter: drop-shadow(0px 1px 2px rgba(0, 0, 0, 0.3));\n",
       "      fill: #FFFFFF;\n",
       "    }\n",
       "  </style>\n",
       "\n",
       "      <script>\n",
       "        const buttonEl =\n",
       "          document.querySelector('#df-0a6b2a97-7c24-4ceb-b8a2-8e7bc3e188ad button.colab-df-convert');\n",
       "        buttonEl.style.display =\n",
       "          google.colab.kernel.accessAllowed ? 'block' : 'none';\n",
       "\n",
       "        async function convertToInteractive(key) {\n",
       "          const element = document.querySelector('#df-0a6b2a97-7c24-4ceb-b8a2-8e7bc3e188ad');\n",
       "          const dataTable =\n",
       "            await google.colab.kernel.invokeFunction('convertToInteractive',\n",
       "                                                     [key], {});\n",
       "          if (!dataTable) return;\n",
       "\n",
       "          const docLinkHtml = 'Like what you see? Visit the ' +\n",
       "            '<a target=\"_blank\" href=https://colab.research.google.com/notebooks/data_table.ipynb>data table notebook</a>'\n",
       "            + ' to learn more about interactive tables.';\n",
       "          element.innerHTML = '';\n",
       "          dataTable['output_type'] = 'display_data';\n",
       "          await google.colab.output.renderOutput(dataTable, element);\n",
       "          const docLink = document.createElement('div');\n",
       "          docLink.innerHTML = docLinkHtml;\n",
       "          element.appendChild(docLink);\n",
       "        }\n",
       "      </script>\n",
       "    </div>\n",
       "  </div>\n",
       "  "
      ],
      "text/plain": [
       "     hate_speech  only humor  only offensive\n",
       "0              1           0               0\n",
       "1              1           0               0\n",
       "2              1           0               0\n",
       "3              1           0               0\n",
       "4              1           0               0\n",
       "..           ...         ...             ...\n",
       "695            0           1               0\n",
       "696            0           1               0\n",
       "697            0           1               0\n",
       "698            0           1               0\n",
       "699            0           1               0\n",
       "\n",
       "[1698 rows x 3 columns]"
      ]
     },
     "execution_count": 5,
     "metadata": {},
     "output_type": "execute_result"
    }
   ],
   "source": [
    "one_hot_encoded"
   ]
  },
  {
   "cell_type": "code",
   "execution_count": null,
   "metadata": {
    "colab": {
     "base_uri": "https://localhost:8080/",
     "height": 424
    },
    "id": "cBQiOI2k2BXo",
    "outputId": "b6aeee4b-3e5a-42ac-de4b-95ab97943a1b"
   },
   "outputs": [
    {
     "data": {
      "text/html": [
       "\n",
       "  <div id=\"df-b1d0c172-5aca-44a8-b32e-2924ec93d2d3\">\n",
       "    <div class=\"colab-df-container\">\n",
       "      <div>\n",
       "<style scoped>\n",
       "    .dataframe tbody tr th:only-of-type {\n",
       "        vertical-align: middle;\n",
       "    }\n",
       "\n",
       "    .dataframe tbody tr th {\n",
       "        vertical-align: top;\n",
       "    }\n",
       "\n",
       "    .dataframe thead th {\n",
       "        text-align: right;\n",
       "    }\n",
       "</style>\n",
       "<table border=\"1\" class=\"dataframe\">\n",
       "  <thead>\n",
       "    <tr style=\"text-align: right;\">\n",
       "      <th></th>\n",
       "      <th>text</th>\n",
       "      <th>hate_speech</th>\n",
       "      <th>only humor</th>\n",
       "      <th>only offensive</th>\n",
       "    </tr>\n",
       "  </thead>\n",
       "  <tbody>\n",
       "    <tr>\n",
       "      <th>0</th>\n",
       "      <td>انا نظري ضعيف ومش هخش الجيش اقسم بالله انت قناص</td>\n",
       "      <td>1</td>\n",
       "      <td>0</td>\n",
       "      <td>0</td>\n",
       "    </tr>\n",
       "    <tr>\n",
       "      <th>1</th>\n",
       "      <td>لما فيمينست تتابع هانتر وتعرف غون بيبحث ابوه و...</td>\n",
       "      <td>1</td>\n",
       "      <td>0</td>\n",
       "      <td>0</td>\n",
       "    </tr>\n",
       "    <tr>\n",
       "      <th>2</th>\n",
       "      <td>لا أحد النسويات</td>\n",
       "      <td>1</td>\n",
       "      <td>0</td>\n",
       "      <td>0</td>\n",
       "    </tr>\n",
       "    <tr>\n",
       "      <th>3</th>\n",
       "      <td>يعني لو قلعنا الحجاب وتعرينا هنطلع القمر أوماااال</td>\n",
       "      <td>1</td>\n",
       "      <td>0</td>\n",
       "      <td>0</td>\n",
       "    </tr>\n",
       "    <tr>\n",
       "      <th>4</th>\n",
       "      <td>فيمينيست عربية نفسي اطلع اوروبا حرية وتحرر و ح...</td>\n",
       "      <td>1</td>\n",
       "      <td>0</td>\n",
       "      <td>0</td>\n",
       "    </tr>\n",
       "    <tr>\n",
       "      <th>...</th>\n",
       "      <td>...</td>\n",
       "      <td>...</td>\n",
       "      <td>...</td>\n",
       "      <td>...</td>\n",
       "    </tr>\n",
       "    <tr>\n",
       "      <th>695</th>\n",
       "      <td>لاتوجد نساء اجمل منك مهما بحثت والله؟! يعني بح...</td>\n",
       "      <td>0</td>\n",
       "      <td>1</td>\n",
       "      <td>0</td>\n",
       "    </tr>\n",
       "    <tr>\n",
       "      <th>696</th>\n",
       "      <td>أنا أخوض حرب لا أعلم عنها شيئا</td>\n",
       "      <td>0</td>\n",
       "      <td>1</td>\n",
       "      <td>0</td>\n",
       "    </tr>\n",
       "    <tr>\n",
       "      <th>697</th>\n",
       "      <td>لما اروح عند دكتور الاسنان يادكتور بالله عليك ...</td>\n",
       "      <td>0</td>\n",
       "      <td>1</td>\n",
       "      <td>0</td>\n",
       "    </tr>\n",
       "    <tr>\n",
       "      <th>698</th>\n",
       "      <td>الضربة اللي متموتش تقوي لأ انا عايزاللي تموت</td>\n",
       "      <td>0</td>\n",
       "      <td>1</td>\n",
       "      <td>0</td>\n",
       "    </tr>\n",
       "    <tr>\n",
       "      <th>699</th>\n",
       "      <td>لقيتلكم حبة كورنا مش قلنالكم بنشف وبموت لحاله</td>\n",
       "      <td>0</td>\n",
       "      <td>1</td>\n",
       "      <td>0</td>\n",
       "    </tr>\n",
       "  </tbody>\n",
       "</table>\n",
       "<p>1698 rows × 4 columns</p>\n",
       "</div>\n",
       "      <button class=\"colab-df-convert\" onclick=\"convertToInteractive('df-b1d0c172-5aca-44a8-b32e-2924ec93d2d3')\"\n",
       "              title=\"Convert this dataframe to an interactive table.\"\n",
       "              style=\"display:none;\">\n",
       "        \n",
       "  <svg xmlns=\"http://www.w3.org/2000/svg\" height=\"24px\"viewBox=\"0 0 24 24\"\n",
       "       width=\"24px\">\n",
       "    <path d=\"M0 0h24v24H0V0z\" fill=\"none\"/>\n",
       "    <path d=\"M18.56 5.44l.94 2.06.94-2.06 2.06-.94-2.06-.94-.94-2.06-.94 2.06-2.06.94zm-11 1L8.5 8.5l.94-2.06 2.06-.94-2.06-.94L8.5 2.5l-.94 2.06-2.06.94zm10 10l.94 2.06.94-2.06 2.06-.94-2.06-.94-.94-2.06-.94 2.06-2.06.94z\"/><path d=\"M17.41 7.96l-1.37-1.37c-.4-.4-.92-.59-1.43-.59-.52 0-1.04.2-1.43.59L10.3 9.45l-7.72 7.72c-.78.78-.78 2.05 0 2.83L4 21.41c.39.39.9.59 1.41.59.51 0 1.02-.2 1.41-.59l7.78-7.78 2.81-2.81c.8-.78.8-2.07 0-2.86zM5.41 20L4 18.59l7.72-7.72 1.47 1.35L5.41 20z\"/>\n",
       "  </svg>\n",
       "      </button>\n",
       "      \n",
       "  <style>\n",
       "    .colab-df-container {\n",
       "      display:flex;\n",
       "      flex-wrap:wrap;\n",
       "      gap: 12px;\n",
       "    }\n",
       "\n",
       "    .colab-df-convert {\n",
       "      background-color: #E8F0FE;\n",
       "      border: none;\n",
       "      border-radius: 50%;\n",
       "      cursor: pointer;\n",
       "      display: none;\n",
       "      fill: #1967D2;\n",
       "      height: 32px;\n",
       "      padding: 0 0 0 0;\n",
       "      width: 32px;\n",
       "    }\n",
       "\n",
       "    .colab-df-convert:hover {\n",
       "      background-color: #E2EBFA;\n",
       "      box-shadow: 0px 1px 2px rgba(60, 64, 67, 0.3), 0px 1px 3px 1px rgba(60, 64, 67, 0.15);\n",
       "      fill: #174EA6;\n",
       "    }\n",
       "\n",
       "    [theme=dark] .colab-df-convert {\n",
       "      background-color: #3B4455;\n",
       "      fill: #D2E3FC;\n",
       "    }\n",
       "\n",
       "    [theme=dark] .colab-df-convert:hover {\n",
       "      background-color: #434B5C;\n",
       "      box-shadow: 0px 1px 3px 1px rgba(0, 0, 0, 0.15);\n",
       "      filter: drop-shadow(0px 1px 2px rgba(0, 0, 0, 0.3));\n",
       "      fill: #FFFFFF;\n",
       "    }\n",
       "  </style>\n",
       "\n",
       "      <script>\n",
       "        const buttonEl =\n",
       "          document.querySelector('#df-b1d0c172-5aca-44a8-b32e-2924ec93d2d3 button.colab-df-convert');\n",
       "        buttonEl.style.display =\n",
       "          google.colab.kernel.accessAllowed ? 'block' : 'none';\n",
       "\n",
       "        async function convertToInteractive(key) {\n",
       "          const element = document.querySelector('#df-b1d0c172-5aca-44a8-b32e-2924ec93d2d3');\n",
       "          const dataTable =\n",
       "            await google.colab.kernel.invokeFunction('convertToInteractive',\n",
       "                                                     [key], {});\n",
       "          if (!dataTable) return;\n",
       "\n",
       "          const docLinkHtml = 'Like what you see? Visit the ' +\n",
       "            '<a target=\"_blank\" href=https://colab.research.google.com/notebooks/data_table.ipynb>data table notebook</a>'\n",
       "            + ' to learn more about interactive tables.';\n",
       "          element.innerHTML = '';\n",
       "          dataTable['output_type'] = 'display_data';\n",
       "          await google.colab.output.renderOutput(dataTable, element);\n",
       "          const docLink = document.createElement('div');\n",
       "          docLink.innerHTML = docLinkHtml;\n",
       "          element.appendChild(docLink);\n",
       "        }\n",
       "      </script>\n",
       "    </div>\n",
       "  </div>\n",
       "  "
      ],
      "text/plain": [
       "                                                  text  hate_speech  \\\n",
       "0      انا نظري ضعيف ومش هخش الجيش اقسم بالله انت قناص            1   \n",
       "1    لما فيمينست تتابع هانتر وتعرف غون بيبحث ابوه و...            1   \n",
       "2                                      لا أحد النسويات            1   \n",
       "3    يعني لو قلعنا الحجاب وتعرينا هنطلع القمر أوماااال            1   \n",
       "4    فيمينيست عربية نفسي اطلع اوروبا حرية وتحرر و ح...            1   \n",
       "..                                                 ...          ...   \n",
       "695  لاتوجد نساء اجمل منك مهما بحثت والله؟! يعني بح...            0   \n",
       "696                     أنا أخوض حرب لا أعلم عنها شيئا            0   \n",
       "697  لما اروح عند دكتور الاسنان يادكتور بالله عليك ...            0   \n",
       "698       الضربة اللي متموتش تقوي لأ انا عايزاللي تموت            0   \n",
       "699      لقيتلكم حبة كورنا مش قلنالكم بنشف وبموت لحاله            0   \n",
       "\n",
       "     only humor  only offensive  \n",
       "0             0               0  \n",
       "1             0               0  \n",
       "2             0               0  \n",
       "3             0               0  \n",
       "4             0               0  \n",
       "..          ...             ...  \n",
       "695           1               0  \n",
       "696           1               0  \n",
       "697           1               0  \n",
       "698           1               0  \n",
       "699           1               0  \n",
       "\n",
       "[1698 rows x 4 columns]"
      ]
     },
     "execution_count": 6,
     "metadata": {},
     "output_type": "execute_result"
    }
   ],
   "source": [
    "df = pd.concat([ df['text'], one_hot_encoded], axis=1, join='inner')\n",
    "df.columns = ['text'] + LABELS\n",
    "df"
   ]
  },
  {
   "cell_type": "code",
   "execution_count": null,
   "metadata": {
    "id": "IZCPmAnq1kty"
   },
   "outputs": [],
   "source": [
    "RANDOM_SEED = 41\n",
    "from sklearn.model_selection import train_test_split\n",
    "train_df, test_df = train_test_split(df, test_size=0.1, random_state=RANDOM_SEED)\n"
   ]
  },
  {
   "cell_type": "code",
   "execution_count": null,
   "metadata": {
    "colab": {
     "base_uri": "https://localhost:8080/",
     "height": 424
    },
    "id": "YLiL_e_U67dY",
    "outputId": "2aeea413-751b-4aaf-a055-b71170c87491"
   },
   "outputs": [
    {
     "data": {
      "text/html": [
       "\n",
       "  <div id=\"df-a609b189-a572-4a1d-a086-fbd77610a699\">\n",
       "    <div class=\"colab-df-container\">\n",
       "      <div>\n",
       "<style scoped>\n",
       "    .dataframe tbody tr th:only-of-type {\n",
       "        vertical-align: middle;\n",
       "    }\n",
       "\n",
       "    .dataframe tbody tr th {\n",
       "        vertical-align: top;\n",
       "    }\n",
       "\n",
       "    .dataframe thead th {\n",
       "        text-align: right;\n",
       "    }\n",
       "</style>\n",
       "<table border=\"1\" class=\"dataframe\">\n",
       "  <thead>\n",
       "    <tr style=\"text-align: right;\">\n",
       "      <th></th>\n",
       "      <th>text</th>\n",
       "      <th>hate_speech</th>\n",
       "      <th>only humor</th>\n",
       "      <th>only offensive</th>\n",
       "    </tr>\n",
       "  </thead>\n",
       "  <tbody>\n",
       "    <tr>\n",
       "      <th>132</th>\n",
       "      <td>طريقة عمل السندوتش لما بكون لوحدي ف البيت</td>\n",
       "      <td>0</td>\n",
       "      <td>1</td>\n",
       "      <td>0</td>\n",
       "    </tr>\n",
       "    <tr>\n",
       "      <th>662</th>\n",
       "      <td>هل تعانين من السمنة المفرطة وتجدين صعوبة في ال...</td>\n",
       "      <td>1</td>\n",
       "      <td>0</td>\n",
       "      <td>0</td>\n",
       "    </tr>\n",
       "    <tr>\n",
       "      <th>451</th>\n",
       "      <td>عندما قطرعلى بالك فكرة فتقرر تحويل هاته الفكرة...</td>\n",
       "      <td>0</td>\n",
       "      <td>1</td>\n",
       "      <td>0</td>\n",
       "    </tr>\n",
       "    <tr>\n",
       "      <th>954</th>\n",
       "      <td>يمكنها تشم المستقبل</td>\n",
       "      <td>1</td>\n",
       "      <td>0</td>\n",
       "      <td>0</td>\n",
       "    </tr>\n",
       "    <tr>\n",
       "      <th>640</th>\n",
       "      <td>لما تروح تقعد مع جدتك شويه وتلاقيك قاعد ساكت ا...</td>\n",
       "      <td>0</td>\n",
       "      <td>1</td>\n",
       "      <td>0</td>\n",
       "    </tr>\n",
       "    <tr>\n",
       "      <th>...</th>\n",
       "      <td>...</td>\n",
       "      <td>...</td>\n",
       "      <td>...</td>\n",
       "      <td>...</td>\n",
       "    </tr>\n",
       "    <tr>\n",
       "      <th>627</th>\n",
       "      <td>يلا بسرعه اتاخرنا ! روحوا انتوا انا مش قادر اج...</td>\n",
       "      <td>0</td>\n",
       "      <td>1</td>\n",
       "      <td>0</td>\n",
       "    </tr>\n",
       "    <tr>\n",
       "      <th>243</th>\n",
       "      <td>أتقول رأيي لا يهم فقط لأنني أشاهد الأنمي</td>\n",
       "      <td>0</td>\n",
       "      <td>0</td>\n",
       "      <td>1</td>\n",
       "    </tr>\n",
       "    <tr>\n",
       "      <th>321</th>\n",
       "      <td>شباب راكضين يحكوا لبنت كيف تصف السيارة الحوظة ...</td>\n",
       "      <td>1</td>\n",
       "      <td>0</td>\n",
       "      <td>0</td>\n",
       "    </tr>\n",
       "    <tr>\n",
       "      <th>106</th>\n",
       "      <td>لما اشوف ماما بتدلع ابن اختي قدامي : ماما انا ...</td>\n",
       "      <td>0</td>\n",
       "      <td>1</td>\n",
       "      <td>0</td>\n",
       "    </tr>\n",
       "    <tr>\n",
       "      <th>931</th>\n",
       "      <td>عندما يقوم الفتى المعاق بلمسك</td>\n",
       "      <td>1</td>\n",
       "      <td>0</td>\n",
       "      <td>0</td>\n",
       "    </tr>\n",
       "  </tbody>\n",
       "</table>\n",
       "<p>1528 rows × 4 columns</p>\n",
       "</div>\n",
       "      <button class=\"colab-df-convert\" onclick=\"convertToInteractive('df-a609b189-a572-4a1d-a086-fbd77610a699')\"\n",
       "              title=\"Convert this dataframe to an interactive table.\"\n",
       "              style=\"display:none;\">\n",
       "        \n",
       "  <svg xmlns=\"http://www.w3.org/2000/svg\" height=\"24px\"viewBox=\"0 0 24 24\"\n",
       "       width=\"24px\">\n",
       "    <path d=\"M0 0h24v24H0V0z\" fill=\"none\"/>\n",
       "    <path d=\"M18.56 5.44l.94 2.06.94-2.06 2.06-.94-2.06-.94-.94-2.06-.94 2.06-2.06.94zm-11 1L8.5 8.5l.94-2.06 2.06-.94-2.06-.94L8.5 2.5l-.94 2.06-2.06.94zm10 10l.94 2.06.94-2.06 2.06-.94-2.06-.94-.94-2.06-.94 2.06-2.06.94z\"/><path d=\"M17.41 7.96l-1.37-1.37c-.4-.4-.92-.59-1.43-.59-.52 0-1.04.2-1.43.59L10.3 9.45l-7.72 7.72c-.78.78-.78 2.05 0 2.83L4 21.41c.39.39.9.59 1.41.59.51 0 1.02-.2 1.41-.59l7.78-7.78 2.81-2.81c.8-.78.8-2.07 0-2.86zM5.41 20L4 18.59l7.72-7.72 1.47 1.35L5.41 20z\"/>\n",
       "  </svg>\n",
       "      </button>\n",
       "      \n",
       "  <style>\n",
       "    .colab-df-container {\n",
       "      display:flex;\n",
       "      flex-wrap:wrap;\n",
       "      gap: 12px;\n",
       "    }\n",
       "\n",
       "    .colab-df-convert {\n",
       "      background-color: #E8F0FE;\n",
       "      border: none;\n",
       "      border-radius: 50%;\n",
       "      cursor: pointer;\n",
       "      display: none;\n",
       "      fill: #1967D2;\n",
       "      height: 32px;\n",
       "      padding: 0 0 0 0;\n",
       "      width: 32px;\n",
       "    }\n",
       "\n",
       "    .colab-df-convert:hover {\n",
       "      background-color: #E2EBFA;\n",
       "      box-shadow: 0px 1px 2px rgba(60, 64, 67, 0.3), 0px 1px 3px 1px rgba(60, 64, 67, 0.15);\n",
       "      fill: #174EA6;\n",
       "    }\n",
       "\n",
       "    [theme=dark] .colab-df-convert {\n",
       "      background-color: #3B4455;\n",
       "      fill: #D2E3FC;\n",
       "    }\n",
       "\n",
       "    [theme=dark] .colab-df-convert:hover {\n",
       "      background-color: #434B5C;\n",
       "      box-shadow: 0px 1px 3px 1px rgba(0, 0, 0, 0.15);\n",
       "      filter: drop-shadow(0px 1px 2px rgba(0, 0, 0, 0.3));\n",
       "      fill: #FFFFFF;\n",
       "    }\n",
       "  </style>\n",
       "\n",
       "      <script>\n",
       "        const buttonEl =\n",
       "          document.querySelector('#df-a609b189-a572-4a1d-a086-fbd77610a699 button.colab-df-convert');\n",
       "        buttonEl.style.display =\n",
       "          google.colab.kernel.accessAllowed ? 'block' : 'none';\n",
       "\n",
       "        async function convertToInteractive(key) {\n",
       "          const element = document.querySelector('#df-a609b189-a572-4a1d-a086-fbd77610a699');\n",
       "          const dataTable =\n",
       "            await google.colab.kernel.invokeFunction('convertToInteractive',\n",
       "                                                     [key], {});\n",
       "          if (!dataTable) return;\n",
       "\n",
       "          const docLinkHtml = 'Like what you see? Visit the ' +\n",
       "            '<a target=\"_blank\" href=https://colab.research.google.com/notebooks/data_table.ipynb>data table notebook</a>'\n",
       "            + ' to learn more about interactive tables.';\n",
       "          element.innerHTML = '';\n",
       "          dataTable['output_type'] = 'display_data';\n",
       "          await google.colab.output.renderOutput(dataTable, element);\n",
       "          const docLink = document.createElement('div');\n",
       "          docLink.innerHTML = docLinkHtml;\n",
       "          element.appendChild(docLink);\n",
       "        }\n",
       "      </script>\n",
       "    </div>\n",
       "  </div>\n",
       "  "
      ],
      "text/plain": [
       "                                                  text  hate_speech  \\\n",
       "132          طريقة عمل السندوتش لما بكون لوحدي ف البيت            0   \n",
       "662  هل تعانين من السمنة المفرطة وتجدين صعوبة في ال...            1   \n",
       "451  عندما قطرعلى بالك فكرة فتقرر تحويل هاته الفكرة...            0   \n",
       "954                                يمكنها تشم المستقبل            1   \n",
       "640  لما تروح تقعد مع جدتك شويه وتلاقيك قاعد ساكت ا...            0   \n",
       "..                                                 ...          ...   \n",
       "627  يلا بسرعه اتاخرنا ! روحوا انتوا انا مش قادر اج...            0   \n",
       "243           أتقول رأيي لا يهم فقط لأنني أشاهد الأنمي            0   \n",
       "321  شباب راكضين يحكوا لبنت كيف تصف السيارة الحوظة ...            1   \n",
       "106  لما اشوف ماما بتدلع ابن اختي قدامي : ماما انا ...            0   \n",
       "931                      عندما يقوم الفتى المعاق بلمسك            1   \n",
       "\n",
       "     only humor  only offensive  \n",
       "132           1               0  \n",
       "662           0               0  \n",
       "451           1               0  \n",
       "954           0               0  \n",
       "640           1               0  \n",
       "..          ...             ...  \n",
       "627           1               0  \n",
       "243           0               1  \n",
       "321           0               0  \n",
       "106           1               0  \n",
       "931           0               0  \n",
       "\n",
       "[1528 rows x 4 columns]"
      ]
     },
     "execution_count": 8,
     "metadata": {},
     "output_type": "execute_result"
    }
   ],
   "source": [
    "train_df"
   ]
  },
  {
   "cell_type": "code",
   "execution_count": null,
   "metadata": {
    "colab": {
     "base_uri": "https://localhost:8080/"
    },
    "id": "54EVaQo76-jp",
    "outputId": "5b89ab10-7fa9-4d72-e957-bdc943c18107"
   },
   "outputs": [
    {
     "name": "stdout",
     "output_type": "stream",
     "text": [
      "train_df:  1528\n",
      "test_df:  170\n"
     ]
    }
   ],
   "source": [
    "print(\"train_df: \", len(train_df))\n",
    "print(\"test_df: \", len(test_df))\n"
   ]
  },
  {
   "cell_type": "code",
   "execution_count": null,
   "metadata": {
    "id": "oHG4E_it7W_A"
   },
   "outputs": [],
   "source": [
    "token_lens = [] \n",
    "def  calcualte_seq_length(df):\n",
    "  for txt in df.text:\n",
    "    tokens = txt.split()\n",
    "    token_lens.append(len(tokens))\n",
    "  return token_lens\n"
   ]
  },
  {
   "cell_type": "code",
   "execution_count": null,
   "metadata": {
    "id": "hUJVJ3Gp7eUC"
   },
   "outputs": [],
   "source": [
    "max_sentence_len = 32"
   ]
  },
  {
   "cell_type": "markdown",
   "metadata": {
    "id": "Lj9tdg2n7jfL"
   },
   "source": [
    "# Libraries"
   ]
  },
  {
   "cell_type": "code",
   "execution_count": null,
   "metadata": {
    "id": "QvOFUI5H7iBB"
   },
   "outputs": [],
   "source": [
    "import numpy as np\n",
    "import pandas as pd\n",
    "import tensorflow as tf\n",
    "from tensorflow import keras\n",
    "from tensorflow.keras.optimizers import Adam, SGD\n",
    "from tensorflow.keras.layers import Dense, Dropout, Bidirectional, GRU, LSTM, Conv1D, MaxPooling1D\n",
    "from tensorflow.keras.models import Sequential\n",
    "from sklearn.metrics import f1_score, jaccard_score\n",
    "import matplotlib.pyplot as plt\n"
   ]
  },
  {
   "cell_type": "markdown",
   "metadata": {
    "id": "dH6GP7tX7oE3"
   },
   "source": [
    "# Load pretrained model"
   ]
  },
  {
   "cell_type": "code",
   "execution_count": null,
   "metadata": {
    "id": "A_QOe5pU7re8"
   },
   "outputs": [],
   "source": [
    "!gdown 1P5hDh2pTeZn8-ZNdsoRjHI9V-_z24U5F\n"
   ]
  },
  {
   "cell_type": "code",
   "execution_count": null,
   "metadata": {
    "id": "5fbn3zV27uWj"
   },
   "outputs": [],
   "source": [
    "import gensim \n",
    "import numpy as np\n",
    "\n",
    "class embed(object):\n",
    "    def __init__(self, path):\n",
    "        self.path = path\n",
    "        self._load_model()\n",
    "        \n",
    "    def _load_model(self):\n",
    "        self.model = gensim.models.Word2Vec.load(self.path)\n",
    "        self.vector_size = self.model.vector_size\n",
    "\n",
    "    def _embed_single(self, text, max_len):\n",
    "        embedding = [self.model.wv[i].reshape(-1, self.vector_size) for i in text.split() if i in self.model.wv]\n",
    "        if len(embedding) == 0:\n",
    "            return self._pad(np.zeros((1, self.vector_size)), max_len)\n",
    "        embedding = np.concatenate(embedding, axis=0)\n",
    "        return self._pad(embedding, max_len)\n",
    "                    \n",
    "    def embed_batch(self, text_list, max_len):\n",
    "        batch = [self._embed_single(i, max_len) for i in text_list]\n",
    "        return np.concatenate(batch)\n",
    "    \n",
    "    def _pad(self, array, max_len):\n",
    "        if array.shape[0] >= max_len:\n",
    "            return np.expand_dims(array[:max_len],0)\n",
    "        else:\n",
    "            padding_size = max_len - array.shape[0]\n",
    "            return np.expand_dims(np.pad(array, [(0, padding_size), (0, 0)], mode='constant', constant_values=0), 0)"
   ]
  },
  {
   "cell_type": "code",
   "execution_count": null,
   "metadata": {
    "id": "2k-y4bNq7zrU"
   },
   "outputs": [],
   "source": [
    "!unzip '/content/full_uni_cbow_300_twitter.zip'"
   ]
  },
  {
   "cell_type": "code",
   "execution_count": null,
   "metadata": {
    "id": "Nw_7Udf371Xq"
   },
   "outputs": [],
   "source": [
    "# Load Aravec \n",
    "embedd_path = '/content/full_uni_cbow_300_twitter.mdl'\n",
    "embedd_size = 300\n",
    "\n",
    "embedder = embed(embedd_path)"
   ]
  },
  {
   "cell_type": "code",
   "execution_count": null,
   "metadata": {
    "id": "0MP5tijo73ti"
   },
   "outputs": [],
   "source": [
    "model_path = '/content/bi_lstm(task_a).best.hdf5'"
   ]
  },
  {
   "cell_type": "code",
   "execution_count": null,
   "metadata": {
    "id": "wzAPbA_s773S"
   },
   "outputs": [],
   "source": [
    "X_train = np.array(train_df.text)\n",
    "Y_train = train_df[train_df.columns[1:]] .values\n",
    "\n",
    "X_test = np.array(test_df.text)\n",
    "Y_test = test_df[test_df.columns[1:]].values"
   ]
  },
  {
   "cell_type": "markdown",
   "metadata": {
    "id": "C7S8Lz6179uZ"
   },
   "source": [
    "# Text vectorization"
   ]
  },
  {
   "cell_type": "code",
   "execution_count": null,
   "metadata": {
    "id": "9OLhZLaN8BhX"
   },
   "outputs": [],
   "source": [
    "X_train = embedder.embed_batch(X_train, max_sentence_len)\n",
    "X_test = embedder.embed_batch(X_test, max_sentence_len)"
   ]
  },
  {
   "cell_type": "code",
   "execution_count": null,
   "metadata": {
    "colab": {
     "base_uri": "https://localhost:8080/"
    },
    "id": "Es-637Nt8Dka",
    "outputId": "5c5da52b-41c2-41ba-d981-1ffeca8c38e2"
   },
   "outputs": [
    {
     "data": {
      "text/plain": [
       "array([[-0.18872142, -0.03164358, -0.21963631, ...,  1.05659676,\n",
       "        -2.70043159, -0.34126267],\n",
       "       [-0.47469744,  0.64502686,  0.63755786, ...,  0.97368866,\n",
       "        -1.21541953,  2.06629729],\n",
       "       [-1.08274984, -1.14934766,  0.00636277, ...,  0.47886091,\n",
       "         0.28565121, -1.29441094],\n",
       "       ...,\n",
       "       [ 0.        ,  0.        ,  0.        , ...,  0.        ,\n",
       "         0.        ,  0.        ],\n",
       "       [ 0.        ,  0.        ,  0.        , ...,  0.        ,\n",
       "         0.        ,  0.        ],\n",
       "       [ 0.        ,  0.        ,  0.        , ...,  0.        ,\n",
       "         0.        ,  0.        ]])"
      ]
     },
     "execution_count": 20,
     "metadata": {},
     "output_type": "execute_result"
    }
   ],
   "source": [
    "X_train[1]"
   ]
  },
  {
   "cell_type": "markdown",
   "metadata": {
    "id": "3O3QRuNX8FrD"
   },
   "source": [
    "# Create & Train model"
   ]
  },
  {
   "cell_type": "code",
   "execution_count": null,
   "metadata": {
    "id": "odCgysOI8Iqp"
   },
   "outputs": [],
   "source": [
    "def create_model(max_sentence_len, embedd_size, num_labels=3):\n",
    "    sentence = keras.Input(shape=(max_sentence_len, embedd_size), name='sentence')\n",
    "    forward_layer = LSTM(300)\n",
    "    backward_layer = LSTM(300, go_backwards=True)\n",
    "\n",
    "    model = Sequential()\n",
    "    model.add(sentence)\n",
    "    \n",
    "    model.add(Bidirectional(forward_layer, backward_layer=backward_layer))\n",
    "    model.add(Dense(300, activation='relu'))\n",
    "    model.add(Dropout(0.2))\n",
    "    model.add(Dense(num_labels, activation='softmax'))\n",
    "    model.compile(optimizer=Adam(0.00005), loss='binary_crossentropy', metrics=['accuracy'])\n",
    "\n",
    "    return model"
   ]
  },
  {
   "cell_type": "code",
   "execution_count": null,
   "metadata": {
    "id": "RppfTXNW8Q0W"
   },
   "outputs": [],
   "source": [
    "earlystopping_callback = keras.callbacks.EarlyStopping(monitor='val_accuracy', patience=3)\n",
    "checkpoint_callback = keras.callbacks.ModelCheckpoint(\n",
    "    filepath=model_path,\n",
    "    monitor='val_accuracy',\n",
    "    mode='max',\n",
    "    save_weights_only=True,\n",
    "    save_best_only=True,\n",
    "    verbose=1)"
   ]
  },
  {
   "cell_type": "code",
   "execution_count": null,
   "metadata": {
    "id": "ZfYAj4hu8SUF"
   },
   "outputs": [],
   "source": [
    "model = create_model(max_sentence_len, embedd_size)\n",
    "history = model.fit(X_train,\n",
    "          Y_train,\n",
    "          epochs=11,\n",
    "          batch_size=50,\n",
    "          validation_data = (X_test, Y_test),\n",
    "          shuffle=True, \n",
    "          callbacks=[earlystopping_callback, checkpoint_callback])"
   ]
  },
  {
   "cell_type": "code",
   "execution_count": null,
   "metadata": {
    "colab": {
     "base_uri": "https://localhost:8080/",
     "height": 295
    },
    "id": "cRmeJnev8gdp",
    "outputId": "a9176ed9-e5ab-457e-8992-f64abd8d8d87"
   },
   "outputs": [
    {
     "data": {
      "image/png": "[encoded data removed]",
      "text/plain": [
       "<Figure size 432x288 with 1 Axes>"
      ]
     },
     "metadata": {
      "needs_background": "light"
     },
     "output_type": "display_data"
    }
   ],
   "source": [
    "plt.plot(history.history['loss'])\n",
    "plt.plot(history.history['val_loss'])\n",
    "plt.legend(['training', 'validation'])\n",
    "plt.title('loss')\n",
    "plt.xlabel('Epoch')\n",
    "plt.show()"
   ]
  },
  {
   "cell_type": "code",
   "execution_count": null,
   "metadata": {
    "colab": {
     "base_uri": "https://localhost:8080/",
     "height": 295
    },
    "id": "Js6N5P0J9IKj",
    "outputId": "2f0d7271-eed1-4280-c78d-90bf1b9593ee"
   },
   "outputs": [
    {
     "data": {
      "image/png": "[encoded data removed]",
      "text/plain": [
       "<Figure size 432x288 with 1 Axes>"
      ]
     },
     "metadata": {
      "needs_background": "light"
     },
     "output_type": "display_data"
    }
   ],
   "source": [
    "plt.plot(history.history['accuracy'])\n",
    "plt.plot(history.history['val_accuracy'])\n",
    "plt.legend(['training', 'validation'])\n",
    "plt.title('accuracy')\n",
    "plt.xlabel('Epoch')\n",
    "plt.show()"
   ]
  },
  {
   "cell_type": "code",
   "execution_count": null,
   "metadata": {
    "id": "WV8UMu9l9LXu"
   },
   "outputs": [],
   "source": [
    "from sklearn.metrics import f1_score, precision_score, recall_score\n",
    "preds = model.predict(X_test) > 0.5\n",
    "\n",
    "print(\"F1 macro:   {}\".format(round(f1_score(Y_test, preds, average=\"macro\"), 3)))\n",
    "print(\"F1 micro:   {}\".format(round(f1_score(Y_test, preds, average=\"micro\"), 3)))\n",
    "print(\"Recall: {}\".format(round(recall_score(Y_test, preds, average=\"macro\"), 3)))\n",
    "print(\"Precision: {}\".format(round(precision_score(Y_test, preds, average=\"macro\"), 3)))"
   ]
  }
 ],
 "metadata": {
  "accelerator": "GPU",
  "colab": {
   "collapsed_sections": [],
   "name": "LSTM_GP(task_a).ipynb",
   "provenance": []
  },
  "kernelspec": {
   "display_name": "Python 3 (ipykernel)",
   "language": "python",
   "name": "python3"
  },
  "language_info": {
   "codemirror_mode": {
    "name": "ipython",
    "version": 3
   },
   "file_extension": ".py",
   "mimetype": "text/x-python",
   "name": "python",
   "nbconvert_exporter": "python",
   "pygments_lexer": "ipython3",
   "version": "3.9.7"
  }
 },
 "nbformat": 4,
 "nbformat_minor": 1
}
