{
  "nbformat": 4,
  "nbformat_minor": 0,
  "metadata": {
    "colab": {
      "name": "VGG-16 GP Task A.ipynb",
      "provenance": []
    },
    "kernelspec": {
      "name": "python3",
      "display_name": "Python 3"
    },
    "language_info": {
      "name": "python"
    },
    "accelerator": "GPU"
  },
  "cells": [
    {
      "cell_type": "code",
      "execution_count": null,
      "metadata": {
        "id": "sXJwtZeAfHih"
      },
      "outputs": [],
      "source": [
        "!gdown --id 1ZGIHE4DF1Nb316jPBWyU7Zzp_K1Lp5xM"
      ]
    },
    {
      "cell_type": "code",
      "execution_count": null,
      "metadata": {
        "id": "YmIca6OeoJsD"
      },
      "outputs": [],
      "source": [
        "!unzip \"/content/TaskA-Memes.zip\"\n",
        "!rm TaskA-Memes.zip"
      ]
    },
    {
      "cell_type": "code",
      "source": [
        "import pandas as pd\n",
        "import tensorflow_hub as hub\n",
        "import tensorflow as tf\n",
        "import numpy as np\n",
        "import keras\n",
        "import tensorflow.keras.layers as layers\n",
        "from tensorflow.keras.models import Model\n",
        "from tensorflow.keras.preprocessing.image import load_img, img_to_array\n",
        "from tensorflow.keras.applications.vgg16 import VGG16\n",
        "from tensorflow.keras.applications import EfficientNetV2L\n",
        "from tensorflow.keras.applications import ResNet152\n",
        "from tensorflow.keras import regularizers\n",
        "from tensorflow.keras.utils import to_categorical\n",
        "from tensorflow.keras.optimizers import Adam\n",
        "from sklearn.model_selection import train_test_split"
      ],
      "metadata": {
        "id": "ZY6JxR6KKWS0"
      },
      "execution_count": null,
      "outputs": []
    },
    {
      "cell_type": "code",
      "source": [
        "image_path = '/content/TaskA-Memes/'"
      ],
      "metadata": {
        "id": "KfgApz0gKfTL"
      },
      "execution_count": null,
      "outputs": []
    },
    {
      "cell_type": "code",
      "source": [
        "batch_size = 16\n",
        "epochs = 50\n",
        "image_size = 224"
      ],
      "metadata": {
        "id": "oJUs9EvnKgS_"
      },
      "execution_count": null,
      "outputs": []
    },
    {
      "cell_type": "code",
      "source": [
        "def loadImage(image_path): # /content/MAMI/TRAINING\n",
        "    try:\n",
        "        return load_img(image_path, target_size=(image_size, image_size))\n",
        "    except:\n",
        "        image_path = image_path.replace('png', 'jpg')\n",
        "        return load_img(image_path, target_size=(image_size, image_size))"
      ],
      "metadata": {
        "id": "gatGW1WyKzkX"
      },
      "execution_count": null,
      "outputs": []
    },
    {
      "cell_type": "code",
      "execution_count": null,
      "metadata": {
        "id": "5FMdIpL4R2Sw"
      },
      "outputs": [],
      "source": [
        "train_df = pd.read_csv('/content/TaskA-Memes/task_a.csv')"
      ]
    },
    {
      "cell_type": "code",
      "source": [
        "train_df.drop(columns=['Unnamed: 0'], inplace=True)"
      ],
      "metadata": {
        "id": "nL7-DW7PJU2A"
      },
      "execution_count": null,
      "outputs": []
    },
    {
      "cell_type": "code",
      "execution_count": null,
      "metadata": {
        "id": "BkU4BeLUR8Hq"
      },
      "outputs": [],
      "source": [
        "train_df = train_df[train_df.meme_type != 'only offensive']"
      ]
    },
    {
      "cell_type": "code",
      "source": [
        "train_df.reset_index(inplace=True, drop=True)"
      ],
      "metadata": {
        "id": "gNtrJ3Lkcqp-"
      },
      "execution_count": null,
      "outputs": []
    },
    {
      "cell_type": "code",
      "source": [
        "train_df['hate_speech'] = [1 if meme == 'hate_speech' else 0 for meme in train_df.meme_type]\n",
        "train_df.drop(columns='meme_type', inplace=True)"
      ],
      "metadata": {
        "id": "_X7JJslSecRA"
      },
      "execution_count": null,
      "outputs": []
    },
    {
      "cell_type": "code",
      "source": [
        "train_df"
      ],
      "metadata": {
        "colab": {
          "base_uri": "https://localhost:8080/",
          "height": 424
        },
        "id": "l1WXEtePfYBq",
        "outputId": "0d728e77-f8c0-45fe-a1d0-4e429353b9a9"
      },
      "execution_count": null,
      "outputs": [
        {
          "output_type": "execute_result",
          "data": {
            "text/plain": [
              "        file_name                                               text  \\\n",
              "0       img24.jpg    انا نظري ضعيف ومش هخش الجيش اقسم بالله انت قناص   \n",
              "1       img28.jpg  لما فيمينست تتابع هانتر وتعرف غون بيبحث ابوه و...   \n",
              "2       img10.jpg                                    لا أحد النسويات   \n",
              "3        img7.jpg  يعني لو قلعنا الحجاب وتعرينا هنطلع القمر أوماااال   \n",
              "4       img16.jpg  فيمينيست عربية نفسي اطلع اوروبا حرية وتحرر و ح...   \n",
              "...           ...                                                ...   \n",
              "1669  IMG_269.jpg  لاتوجد نساء اجمل منك مهما بحثت والله؟! يعني بح...   \n",
              "1670  IMG_233.jpg                     أنا أخوض حرب لا أعلم عنها شيئا   \n",
              "1671  IMG_138.jpg  لما اروح عند دكتور الاسنان يادكتور بالله عليك ...   \n",
              "1672  IMG_705.jpg       الضربة اللي متموتش تقوي لأ انا عايزاللي تموت   \n",
              "1673  IMG_692.jpg      لقيتلكم حبة كورنا مش قلنالكم بنشف وبموت لحاله   \n",
              "\n",
              "      hate_speech  \n",
              "0               1  \n",
              "1               1  \n",
              "2               1  \n",
              "3               1  \n",
              "4               1  \n",
              "...           ...  \n",
              "1669            0  \n",
              "1670            0  \n",
              "1671            0  \n",
              "1672            0  \n",
              "1673            0  \n",
              "\n",
              "[1674 rows x 3 columns]"
            ],
            "text/html": [
              "\n",
              "  <div id=\"df-b6f45ec5-82d1-4040-8ab2-d62e6f94c64b\">\n",
              "    <div class=\"colab-df-container\">\n",
              "      <div>\n",
              "<style scoped>\n",
              "    .dataframe tbody tr th:only-of-type {\n",
              "        vertical-align: middle;\n",
              "    }\n",
              "\n",
              "    .dataframe tbody tr th {\n",
              "        vertical-align: top;\n",
              "    }\n",
              "\n",
              "    .dataframe thead th {\n",
              "        text-align: right;\n",
              "    }\n",
              "</style>\n",
              "<table border=\"1\" class=\"dataframe\">\n",
              "  <thead>\n",
              "    <tr style=\"text-align: right;\">\n",
              "      <th></th>\n",
              "      <th>file_name</th>\n",
              "      <th>text</th>\n",
              "      <th>hate_speech</th>\n",
              "    </tr>\n",
              "  </thead>\n",
              "  <tbody>\n",
              "    <tr>\n",
              "      <th>0</th>\n",
              "      <td>img24.jpg</td>\n",
              "      <td>انا نظري ضعيف ومش هخش الجيش اقسم بالله انت قناص</td>\n",
              "      <td>1</td>\n",
              "    </tr>\n",
              "    <tr>\n",
              "      <th>1</th>\n",
              "      <td>img28.jpg</td>\n",
              "      <td>لما فيمينست تتابع هانتر وتعرف غون بيبحث ابوه و...</td>\n",
              "      <td>1</td>\n",
              "    </tr>\n",
              "    <tr>\n",
              "      <th>2</th>\n",
              "      <td>img10.jpg</td>\n",
              "      <td>لا أحد النسويات</td>\n",
              "      <td>1</td>\n",
              "    </tr>\n",
              "    <tr>\n",
              "      <th>3</th>\n",
              "      <td>img7.jpg</td>\n",
              "      <td>يعني لو قلعنا الحجاب وتعرينا هنطلع القمر أوماااال</td>\n",
              "      <td>1</td>\n",
              "    </tr>\n",
              "    <tr>\n",
              "      <th>4</th>\n",
              "      <td>img16.jpg</td>\n",
              "      <td>فيمينيست عربية نفسي اطلع اوروبا حرية وتحرر و ح...</td>\n",
              "      <td>1</td>\n",
              "    </tr>\n",
              "    <tr>\n",
              "      <th>...</th>\n",
              "      <td>...</td>\n",
              "      <td>...</td>\n",
              "      <td>...</td>\n",
              "    </tr>\n",
              "    <tr>\n",
              "      <th>1669</th>\n",
              "      <td>IMG_269.jpg</td>\n",
              "      <td>لاتوجد نساء اجمل منك مهما بحثت والله؟! يعني بح...</td>\n",
              "      <td>0</td>\n",
              "    </tr>\n",
              "    <tr>\n",
              "      <th>1670</th>\n",
              "      <td>IMG_233.jpg</td>\n",
              "      <td>أنا أخوض حرب لا أعلم عنها شيئا</td>\n",
              "      <td>0</td>\n",
              "    </tr>\n",
              "    <tr>\n",
              "      <th>1671</th>\n",
              "      <td>IMG_138.jpg</td>\n",
              "      <td>لما اروح عند دكتور الاسنان يادكتور بالله عليك ...</td>\n",
              "      <td>0</td>\n",
              "    </tr>\n",
              "    <tr>\n",
              "      <th>1672</th>\n",
              "      <td>IMG_705.jpg</td>\n",
              "      <td>الضربة اللي متموتش تقوي لأ انا عايزاللي تموت</td>\n",
              "      <td>0</td>\n",
              "    </tr>\n",
              "    <tr>\n",
              "      <th>1673</th>\n",
              "      <td>IMG_692.jpg</td>\n",
              "      <td>لقيتلكم حبة كورنا مش قلنالكم بنشف وبموت لحاله</td>\n",
              "      <td>0</td>\n",
              "    </tr>\n",
              "  </tbody>\n",
              "</table>\n",
              "<p>1674 rows × 3 columns</p>\n",
              "</div>\n",
              "      <button class=\"colab-df-convert\" onclick=\"convertToInteractive('df-b6f45ec5-82d1-4040-8ab2-d62e6f94c64b')\"\n",
              "              title=\"Convert this dataframe to an interactive table.\"\n",
              "              style=\"display:none;\">\n",
              "        \n",
              "  <svg xmlns=\"http://www.w3.org/2000/svg\" height=\"24px\"viewBox=\"0 0 24 24\"\n",
              "       width=\"24px\">\n",
              "    <path d=\"M0 0h24v24H0V0z\" fill=\"none\"/>\n",
              "    <path d=\"M18.56 5.44l.94 2.06.94-2.06 2.06-.94-2.06-.94-.94-2.06-.94 2.06-2.06.94zm-11 1L8.5 8.5l.94-2.06 2.06-.94-2.06-.94L8.5 2.5l-.94 2.06-2.06.94zm10 10l.94 2.06.94-2.06 2.06-.94-2.06-.94-.94-2.06-.94 2.06-2.06.94z\"/><path d=\"M17.41 7.96l-1.37-1.37c-.4-.4-.92-.59-1.43-.59-.52 0-1.04.2-1.43.59L10.3 9.45l-7.72 7.72c-.78.78-.78 2.05 0 2.83L4 21.41c.39.39.9.59 1.41.59.51 0 1.02-.2 1.41-.59l7.78-7.78 2.81-2.81c.8-.78.8-2.07 0-2.86zM5.41 20L4 18.59l7.72-7.72 1.47 1.35L5.41 20z\"/>\n",
              "  </svg>\n",
              "      </button>\n",
              "      \n",
              "  <style>\n",
              "    .colab-df-container {\n",
              "      display:flex;\n",
              "      flex-wrap:wrap;\n",
              "      gap: 12px;\n",
              "    }\n",
              "\n",
              "    .colab-df-convert {\n",
              "      background-color: #E8F0FE;\n",
              "      border: none;\n",
              "      border-radius: 50%;\n",
              "      cursor: pointer;\n",
              "      display: none;\n",
              "      fill: #1967D2;\n",
              "      height: 32px;\n",
              "      padding: 0 0 0 0;\n",
              "      width: 32px;\n",
              "    }\n",
              "\n",
              "    .colab-df-convert:hover {\n",
              "      background-color: #E2EBFA;\n",
              "      box-shadow: 0px 1px 2px rgba(60, 64, 67, 0.3), 0px 1px 3px 1px rgba(60, 64, 67, 0.15);\n",
              "      fill: #174EA6;\n",
              "    }\n",
              "\n",
              "    [theme=dark] .colab-df-convert {\n",
              "      background-color: #3B4455;\n",
              "      fill: #D2E3FC;\n",
              "    }\n",
              "\n",
              "    [theme=dark] .colab-df-convert:hover {\n",
              "      background-color: #434B5C;\n",
              "      box-shadow: 0px 1px 3px 1px rgba(0, 0, 0, 0.15);\n",
              "      filter: drop-shadow(0px 1px 2px rgba(0, 0, 0, 0.3));\n",
              "      fill: #FFFFFF;\n",
              "    }\n",
              "  </style>\n",
              "\n",
              "      <script>\n",
              "        const buttonEl =\n",
              "          document.querySelector('#df-b6f45ec5-82d1-4040-8ab2-d62e6f94c64b button.colab-df-convert');\n",
              "        buttonEl.style.display =\n",
              "          google.colab.kernel.accessAllowed ? 'block' : 'none';\n",
              "\n",
              "        async function convertToInteractive(key) {\n",
              "          const element = document.querySelector('#df-b6f45ec5-82d1-4040-8ab2-d62e6f94c64b');\n",
              "          const dataTable =\n",
              "            await google.colab.kernel.invokeFunction('convertToInteractive',\n",
              "                                                     [key], {});\n",
              "          if (!dataTable) return;\n",
              "\n",
              "          const docLinkHtml = 'Like what you see? Visit the ' +\n",
              "            '<a target=\"_blank\" href=https://colab.research.google.com/notebooks/data_table.ipynb>data table notebook</a>'\n",
              "            + ' to learn more about interactive tables.';\n",
              "          element.innerHTML = '';\n",
              "          dataTable['output_type'] = 'display_data';\n",
              "          await google.colab.output.renderOutput(dataTable, element);\n",
              "          const docLink = document.createElement('div');\n",
              "          docLink.innerHTML = docLinkHtml;\n",
              "          element.appendChild(docLink);\n",
              "        }\n",
              "      </script>\n",
              "    </div>\n",
              "  </div>\n",
              "  "
            ]
          },
          "metadata": {},
          "execution_count": 12
        }
      ]
    },
    {
      "cell_type": "code",
      "source": [
        "path = image_path+'/'\n",
        "\n",
        "train_df['image_path'] = path + train_df['file_name']"
      ],
      "metadata": {
        "id": "x-GO_kEbnd4b"
      },
      "execution_count": null,
      "outputs": []
    },
    {
      "cell_type": "code",
      "source": [
        "train_df['image'] = None\n",
        "train_df['image'] = train_df['image_path'].apply(lambda x: img_to_array(loadImage(x))) "
      ],
      "metadata": {
        "id": "6AFPLfJ-4d2l"
      },
      "execution_count": null,
      "outputs": []
    },
    {
      "cell_type": "code",
      "source": [
        "train_df, test_df = train_test_split(train_df, test_size=0.1, random_state=41)"
      ],
      "metadata": {
        "id": "WS7fwDnm8zvh"
      },
      "execution_count": null,
      "outputs": []
    },
    {
      "cell_type": "code",
      "source": [
        "X_train = train_df[['file_name', 'image']]\n",
        "y_train = train_df['hate_speech']\n",
        "\n",
        "X_test = test_df[['file_name', 'image']]\n",
        "y_test = test_df['hate_speech']"
      ],
      "metadata": {
        "id": "6i0_qLEA5BEt"
      },
      "execution_count": null,
      "outputs": []
    },
    {
      "cell_type": "code",
      "source": [
        "tmp = []\n",
        "for value in X_train['image']:\n",
        "  tmp.append(value) \n",
        "iX_train = np.array(tmp)"
      ],
      "metadata": {
        "id": "7o9LopK55bW1"
      },
      "execution_count": null,
      "outputs": []
    },
    {
      "cell_type": "code",
      "source": [
        "tmp = []\n",
        "for value in X_test['image']:\n",
        "  tmp.append(value) \n",
        "iX_test = np.array(tmp)"
      ],
      "metadata": {
        "id": "sjOZQBu49VBc"
      },
      "execution_count": null,
      "outputs": []
    },
    {
      "cell_type": "code",
      "source": [
        "y_train = to_categorical(y_train, 2)\n",
        "y_test = to_categorical(y_test, 2)"
      ],
      "metadata": {
        "id": "b0iNiHaI61jM"
      },
      "execution_count": null,
      "outputs": []
    },
    {
      "cell_type": "code",
      "source": [
        "model_path = '/content/Best_model'\n",
        "\n",
        "# earlystopping_callback = keras.callbacks.EarlyStopping(monitor='val_accuracy', patience=5)\n",
        "checkpoint_callback = keras.callbacks.ModelCheckpoint(\n",
        "    filepath=model_path,\n",
        "    monitor='val_accuracy',\n",
        "    mode='max',\n",
        "    save_weights_only=True,\n",
        "    save_best_only=True,\n",
        "    verbose=1)"
      ],
      "metadata": {
        "id": "YhoJwugy-o-X"
      },
      "execution_count": null,
      "outputs": []
    },
    {
      "cell_type": "code",
      "source": [
        "#_______________________________IMAGE MODEL_______________________________\n",
        "l2_strength = 1e-5\n",
        "\n",
        "input_image = layers.Input(shape=(image_size,image_size,3))\n",
        "model = EfficientNetV2L(input_tensor=input_image, weights='imagenet', include_top=False)\n",
        "\n",
        "for layer in model.layers:\n",
        "    layer.trainable = False\n",
        "\n",
        "x = model.output\n",
        "x = layers.Flatten(input_shape=model.output_shape[1:])(x)\n",
        "x = layers.Dense(512, activation='relu', kernel_regularizer=regularizers.l2(l2_strength))(x)\n",
        "x = layers.Dropout(0.5)(x)\n",
        "x = layers.Dense(128, activation='relu', kernel_regularizer=regularizers.l2(l2_strength))(x)\n",
        "x = layers.Dense(2, activation='softmax')(x)\n",
        "\n",
        "image_model = Model(model.input, x)\n",
        "\n",
        "image_model.compile(loss='categorical_crossentropy', optimizer=Adam(0.001), metrics=['accuracy'])\n",
        "# image_model.summary()\n",
        "\n",
        "history = image_model.fit(iX_train, \n",
        "                    y_train,\n",
        "                    validation_data=(iX_test, y_test), # Remove\n",
        "                    epochs= epochs,\n",
        "                    batch_size=batch_size,\n",
        "                    callbacks=[checkpoint_callback]\n",
        ")   "
      ],
      "metadata": {
        "id": "aWmj2Ovz6JGa"
      },
      "execution_count": null,
      "outputs": []
    },
    {
      "cell_type": "code",
      "source": [
        "model_output = image_model.predict(iX_test) "
      ],
      "metadata": {
        "id": "TPSW6BSOAodi"
      },
      "execution_count": null,
      "outputs": []
    },
    {
      "cell_type": "code",
      "source": [
        "preds = []\n",
        "for out in model_output:\n",
        "  preds.append(np.argmax(out))"
      ],
      "metadata": {
        "id": "NdwWrejwBEOi"
      },
      "execution_count": null,
      "outputs": []
    },
    {
      "cell_type": "code",
      "source": [
        "labels = []\n",
        "for x in y_test:\n",
        "  labels.append(np.argmax(x))"
      ],
      "metadata": {
        "id": "hm42ZufHCv6Q"
      },
      "execution_count": null,
      "outputs": []
    },
    {
      "cell_type": "code",
      "source": [
        "from sklearn.metrics import f1_score, precision_score, recall_score\n",
        "\n",
        "print(\"F1 macro:   {}\".format(round(f1_score(labels, preds, average=\"macro\"), 3)))\n",
        "print(\"Precision:   {}\".format(precision_score(labels,preds, average=\"macro\"), 3))\n",
        "print(\"Recall:   {}\".format(recall_score(labels,preds, average=\"macro\"), 3))\n",
        "print(\"F1 micro:   {}\".format(round(f1_score(labels, preds, average=\"micro\"), 3)))"
      ],
      "metadata": {
        "id": "GKy0BqZSDHeB"
      },
      "execution_count": null,
      "outputs": []
    }
  ]
}