{
 "cells": [
  {
   "cell_type": "markdown",
   "metadata": {
    "id": "DTPSzwMZzeSe"
   },
   "source": [
    "# Preparing Data"
   ]
  },
  {
   "cell_type": "code",
   "execution_count": null,
   "metadata": {
    "id": "zxQgxF8UPEhd"
   },
   "outputs": [],
   "source": [
    "import numpy as np\n",
    "import pandas as pd"
   ]
  },
  {
   "cell_type": "code",
   "execution_count": null,
   "metadata": {
    "id": "kEiwR_kqewgK"
   },
   "outputs": [],
   "source": [
    "!gdown  1_Zds0QWmbn7bYn3iGrS1gyTLv33ZmwzU"
   ]
  },
  {
   "cell_type": "code",
   "execution_count": null,
   "metadata": {
    "id": "uyTBJC58e3KG"
   },
   "outputs": [],
   "source": [
    "!unzip \"/content/Memes-final.zip\""
   ]
  },
  {
   "cell_type": "code",
   "execution_count": null,
   "metadata": {
    "id": "C6erW5EFhjWn"
   },
   "outputs": [],
   "source": [
    "df = pd.read_excel('/content/Memes (final)/final.xlsx')\n",
    "df = df.drop(df.columns[0], axis=1)\n",
    "df = df.drop(df.columns[0], axis=1)"
   ]
  },
  {
   "cell_type": "code",
   "execution_count": null,
   "metadata": {
    "colab": {
     "base_uri": "https://localhost:8080/",
     "height": 424
    },
    "id": "pBbWPZKDhsZN",
    "outputId": "27d221ef-303e-4051-aeb6-61c16cb01480"
   },
   "outputs": [
    {
     "data": {
      "text/html": [
       "\n",
       "  <div id=\"df-47946868-5ac0-4e8b-b6e6-fad1e7d9d7ba\">\n",
       "    <div class=\"colab-df-container\">\n",
       "      <div>\n",
       "<style scoped>\n",
       "    .dataframe tbody tr th:only-of-type {\n",
       "        vertical-align: middle;\n",
       "    }\n",
       "\n",
       "    .dataframe tbody tr th {\n",
       "        vertical-align: top;\n",
       "    }\n",
       "\n",
       "    .dataframe thead th {\n",
       "        text-align: right;\n",
       "    }\n",
       "</style>\n",
       "<table border=\"1\" class=\"dataframe\">\n",
       "  <thead>\n",
       "    <tr style=\"text-align: right;\">\n",
       "      <th></th>\n",
       "      <th>file_name</th>\n",
       "      <th>meme_type</th>\n",
       "      <th>hate_type</th>\n",
       "      <th>meme_type2</th>\n",
       "      <th>hate_type2</th>\n",
       "      <th>text</th>\n",
       "    </tr>\n",
       "  </thead>\n",
       "  <tbody>\n",
       "    <tr>\n",
       "      <th>0</th>\n",
       "      <td>img24.jpg</td>\n",
       "      <td>hate_speech</td>\n",
       "      <td>ddd</td>\n",
       "      <td>0.0</td>\n",
       "      <td>1.0</td>\n",
       "      <td>انا نظري ضعيف ومش هخش الجيش اقسم بالله انت قناص</td>\n",
       "    </tr>\n",
       "    <tr>\n",
       "      <th>1</th>\n",
       "      <td>img28.jpg</td>\n",
       "      <td>hate_speech</td>\n",
       "      <td>gender</td>\n",
       "      <td>0.0</td>\n",
       "      <td>4.0</td>\n",
       "      <td>لما فيمينست تتابع هانتر وتعرف غون بيبحث ابوه و...</td>\n",
       "    </tr>\n",
       "    <tr>\n",
       "      <th>2</th>\n",
       "      <td>img10.jpg</td>\n",
       "      <td>hate_speech</td>\n",
       "      <td>gender</td>\n",
       "      <td>0.0</td>\n",
       "      <td>4.0</td>\n",
       "      <td>لا أحد النسويات</td>\n",
       "    </tr>\n",
       "    <tr>\n",
       "      <th>3</th>\n",
       "      <td>img7.jpg</td>\n",
       "      <td>hate_speech</td>\n",
       "      <td>gender</td>\n",
       "      <td>0.0</td>\n",
       "      <td>4.0</td>\n",
       "      <td>يعني لو قلعنا الحجاب وتعرينا هنطلع القمر أوماااال</td>\n",
       "    </tr>\n",
       "    <tr>\n",
       "      <th>4</th>\n",
       "      <td>img16.jpg</td>\n",
       "      <td>hate_speech</td>\n",
       "      <td>gender</td>\n",
       "      <td>0.0</td>\n",
       "      <td>4.0</td>\n",
       "      <td>فيمينيست عربية نفسي اطلع اوروبا حرية وتحرر و ح...</td>\n",
       "    </tr>\n",
       "    <tr>\n",
       "      <th>...</th>\n",
       "      <td>...</td>\n",
       "      <td>...</td>\n",
       "      <td>...</td>\n",
       "      <td>...</td>\n",
       "      <td>...</td>\n",
       "      <td>...</td>\n",
       "    </tr>\n",
       "    <tr>\n",
       "      <th>993</th>\n",
       "      <td>img1311.jpeg</td>\n",
       "      <td>hate_speech</td>\n",
       "      <td>ddd</td>\n",
       "      <td>0.0</td>\n",
       "      <td>1.0</td>\n",
       "      <td>برو لماذا ابدو كمكعب العشب في ماينكرافت</td>\n",
       "    </tr>\n",
       "    <tr>\n",
       "      <th>994</th>\n",
       "      <td>img1313.jpg</td>\n",
       "      <td>hate_speech</td>\n",
       "      <td>ddd</td>\n",
       "      <td>0.0</td>\n",
       "      <td>1.0</td>\n",
       "      <td>حيوانات مصابة بمتلازمة داون المنغولية</td>\n",
       "    </tr>\n",
       "    <tr>\n",
       "      <th>995</th>\n",
       "      <td>img1309.png</td>\n",
       "      <td>hate_speech</td>\n",
       "      <td>ddd</td>\n",
       "      <td>0.0</td>\n",
       "      <td>1.0</td>\n",
       "      <td>كنت غبي ولاتستطيع الاصطفاف ابق في المنزل</td>\n",
       "    </tr>\n",
       "    <tr>\n",
       "      <th>996</th>\n",
       "      <td>img1308.png</td>\n",
       "      <td>hate_speech</td>\n",
       "      <td>ddd</td>\n",
       "      <td>0.0</td>\n",
       "      <td>1.0</td>\n",
       "      <td>عندما تضغط على ايقاف الفلاش على الكاميرا خاصتك</td>\n",
       "    </tr>\n",
       "    <tr>\n",
       "      <th>997</th>\n",
       "      <td>img1312.jpg</td>\n",
       "      <td>hate_speech</td>\n",
       "      <td>race</td>\n",
       "      <td>0.0</td>\n",
       "      <td>3.0</td>\n",
       "      <td>عندما يكون الزنوج سكرانين</td>\n",
       "    </tr>\n",
       "  </tbody>\n",
       "</table>\n",
       "<p>998 rows × 6 columns</p>\n",
       "</div>\n",
       "      <button class=\"colab-df-convert\" onclick=\"convertToInteractive('df-47946868-5ac0-4e8b-b6e6-fad1e7d9d7ba')\"\n",
       "              title=\"Convert this dataframe to an interactive table.\"\n",
       "              style=\"display:none;\">\n",
       "        \n",
       "  <svg xmlns=\"http://www.w3.org/2000/svg\" height=\"24px\"viewBox=\"0 0 24 24\"\n",
       "       width=\"24px\">\n",
       "    <path d=\"M0 0h24v24H0V0z\" fill=\"none\"/>\n",
       "    <path d=\"M18.56 5.44l.94 2.06.94-2.06 2.06-.94-2.06-.94-.94-2.06-.94 2.06-2.06.94zm-11 1L8.5 8.5l.94-2.06 2.06-.94-2.06-.94L8.5 2.5l-.94 2.06-2.06.94zm10 10l.94 2.06.94-2.06 2.06-.94-2.06-.94-.94-2.06-.94 2.06-2.06.94z\"/><path d=\"M17.41 7.96l-1.37-1.37c-.4-.4-.92-.59-1.43-.59-.52 0-1.04.2-1.43.59L10.3 9.45l-7.72 7.72c-.78.78-.78 2.05 0 2.83L4 21.41c.39.39.9.59 1.41.59.51 0 1.02-.2 1.41-.59l7.78-7.78 2.81-2.81c.8-.78.8-2.07 0-2.86zM5.41 20L4 18.59l7.72-7.72 1.47 1.35L5.41 20z\"/>\n",
       "  </svg>\n",
       "      </button>\n",
       "      \n",
       "  <style>\n",
       "    .colab-df-container {\n",
       "      display:flex;\n",
       "      flex-wrap:wrap;\n",
       "      gap: 12px;\n",
       "    }\n",
       "\n",
       "    .colab-df-convert {\n",
       "      background-color: #E8F0FE;\n",
       "      border: none;\n",
       "      border-radius: 50%;\n",
       "      cursor: pointer;\n",
       "      display: none;\n",
       "      fill: #1967D2;\n",
       "      height: 32px;\n",
       "      padding: 0 0 0 0;\n",
       "      width: 32px;\n",
       "    }\n",
       "\n",
       "    .colab-df-convert:hover {\n",
       "      background-color: #E2EBFA;\n",
       "      box-shadow: 0px 1px 2px rgba(60, 64, 67, 0.3), 0px 1px 3px 1px rgba(60, 64, 67, 0.15);\n",
       "      fill: #174EA6;\n",
       "    }\n",
       "\n",
       "    [theme=dark] .colab-df-convert {\n",
       "      background-color: #3B4455;\n",
       "      fill: #D2E3FC;\n",
       "    }\n",
       "\n",
       "    [theme=dark] .colab-df-convert:hover {\n",
       "      background-color: #434B5C;\n",
       "      box-shadow: 0px 1px 3px 1px rgba(0, 0, 0, 0.15);\n",
       "      filter: drop-shadow(0px 1px 2px rgba(0, 0, 0, 0.3));\n",
       "      fill: #FFFFFF;\n",
       "    }\n",
       "  </style>\n",
       "\n",
       "      <script>\n",
       "        const buttonEl =\n",
       "          document.querySelector('#df-47946868-5ac0-4e8b-b6e6-fad1e7d9d7ba button.colab-df-convert');\n",
       "        buttonEl.style.display =\n",
       "          google.colab.kernel.accessAllowed ? 'block' : 'none';\n",
       "\n",
       "        async function convertToInteractive(key) {\n",
       "          const element = document.querySelector('#df-47946868-5ac0-4e8b-b6e6-fad1e7d9d7ba');\n",
       "          const dataTable =\n",
       "            await google.colab.kernel.invokeFunction('convertToInteractive',\n",
       "                                                     [key], {});\n",
       "          if (!dataTable) return;\n",
       "\n",
       "          const docLinkHtml = 'Like what you see? Visit the ' +\n",
       "            '<a target=\"_blank\" href=https://colab.research.google.com/notebooks/data_table.ipynb>data table notebook</a>'\n",
       "            + ' to learn more about interactive tables.';\n",
       "          element.innerHTML = '';\n",
       "          dataTable['output_type'] = 'display_data';\n",
       "          await google.colab.output.renderOutput(dataTable, element);\n",
       "          const docLink = document.createElement('div');\n",
       "          docLink.innerHTML = docLinkHtml;\n",
       "          element.appendChild(docLink);\n",
       "        }\n",
       "      </script>\n",
       "    </div>\n",
       "  </div>\n",
       "  "
      ],
      "text/plain": [
       "        file_name    meme_type hate_type  meme_type2  hate_type2  \\\n",
       "0       img24.jpg  hate_speech       ddd         0.0         1.0   \n",
       "1       img28.jpg  hate_speech    gender         0.0         4.0   \n",
       "2       img10.jpg  hate_speech    gender         0.0         4.0   \n",
       "3        img7.jpg  hate_speech    gender         0.0         4.0   \n",
       "4       img16.jpg  hate_speech    gender         0.0         4.0   \n",
       "..            ...          ...       ...         ...         ...   \n",
       "993  img1311.jpeg  hate_speech       ddd         0.0         1.0   \n",
       "994   img1313.jpg  hate_speech       ddd         0.0         1.0   \n",
       "995   img1309.png  hate_speech       ddd         0.0         1.0   \n",
       "996   img1308.png  hate_speech       ddd         0.0         1.0   \n",
       "997   img1312.jpg  hate_speech      race         0.0         3.0   \n",
       "\n",
       "                                                  text  \n",
       "0      انا نظري ضعيف ومش هخش الجيش اقسم بالله انت قناص  \n",
       "1    لما فيمينست تتابع هانتر وتعرف غون بيبحث ابوه و...  \n",
       "2                                      لا أحد النسويات  \n",
       "3    يعني لو قلعنا الحجاب وتعرينا هنطلع القمر أوماااال  \n",
       "4    فيمينيست عربية نفسي اطلع اوروبا حرية وتحرر و ح...  \n",
       "..                                                 ...  \n",
       "993            برو لماذا ابدو كمكعب العشب في ماينكرافت  \n",
       "994              حيوانات مصابة بمتلازمة داون المنغولية  \n",
       "995           كنت غبي ولاتستطيع الاصطفاف ابق في المنزل  \n",
       "996     عندما تضغط على ايقاف الفلاش على الكاميرا خاصتك  \n",
       "997                          عندما يكون الزنوج سكرانين  \n",
       "\n",
       "[998 rows x 6 columns]"
      ]
     },
     "execution_count": 251,
     "metadata": {},
     "output_type": "execute_result"
    }
   ],
   "source": [
    "df"
   ]
  },
  {
   "cell_type": "code",
   "execution_count": null,
   "metadata": {
    "colab": {
     "base_uri": "https://localhost:8080/",
     "height": 334
    },
    "id": "NVjYKEMxRwS4",
    "outputId": "1d71087d-302d-485b-84c1-09a1f056b830"
   },
   "outputs": [
    {
     "name": "stderr",
     "output_type": "stream",
     "text": [
      "/usr/local/lib/python3.7/dist-packages/seaborn/_decorators.py:43: FutureWarning: Pass the following variable as a keyword arg: x. From version 0.12, the only valid positional argument will be `data`, and passing other arguments without an explicit keyword will result in an error or misinterpretation.\n",
      "  FutureWarning\n"
     ]
    },
    {
     "data": {
      "image/png": "[encoded data removed]",
      "text/plain": [
       "<Figure size 432x288 with 1 Axes>"
      ]
     },
     "metadata": {
      "needs_background": "light"
     },
     "output_type": "display_data"
    }
   ],
   "source": [
    "import matplotlib.pyplot as plt\n",
    "import seaborn as sns\n",
    "sns.countplot(df.hate_type2)\n",
    "plt.xlabel('review score');"
   ]
  },
  {
   "cell_type": "code",
   "execution_count": null,
   "metadata": {
    "colab": {
     "base_uri": "https://localhost:8080/"
    },
    "id": "9UPZFYGPjmN-",
    "outputId": "31b21e82-9faa-40e8-ba44-2e98eb02a7bd"
   },
   "outputs": [
    {
     "data": {
      "text/plain": [
       "0    627\n",
       "1    119\n",
       "Name: race, dtype: int64"
      ]
     },
     "execution_count": 253,
     "metadata": {},
     "output_type": "execute_result"
    }
   ],
   "source": [
    "train_df['race'].value_counts()"
   ]
  },
  {
   "cell_type": "code",
   "execution_count": null,
   "metadata": {
    "colab": {
     "base_uri": "https://localhost:8080/",
     "height": 424
    },
    "id": "1x2PegZa5iCx",
    "outputId": "f6bdefea-33c1-4934-d4aa-481c56c3b434"
   },
   "outputs": [
    {
     "data": {
      "text/html": [
       "\n",
       "  <div id=\"df-ccc1ac0d-5804-4ae5-afd3-57f856d0220e\">\n",
       "    <div class=\"colab-df-container\">\n",
       "      <div>\n",
       "<style scoped>\n",
       "    .dataframe tbody tr th:only-of-type {\n",
       "        vertical-align: middle;\n",
       "    }\n",
       "\n",
       "    .dataframe tbody tr th {\n",
       "        vertical-align: top;\n",
       "    }\n",
       "\n",
       "    .dataframe thead th {\n",
       "        text-align: right;\n",
       "    }\n",
       "</style>\n",
       "<table border=\"1\" class=\"dataframe\">\n",
       "  <thead>\n",
       "    <tr style=\"text-align: right;\">\n",
       "      <th></th>\n",
       "      <th>file_name</th>\n",
       "      <th>meme_type</th>\n",
       "      <th>hate_type</th>\n",
       "      <th>meme_type2</th>\n",
       "      <th>hate_type2</th>\n",
       "      <th>text</th>\n",
       "    </tr>\n",
       "  </thead>\n",
       "  <tbody>\n",
       "    <tr>\n",
       "      <th>218</th>\n",
       "      <td>img240.jpg</td>\n",
       "      <td>hate_speech</td>\n",
       "      <td>national_origin</td>\n",
       "      <td>0.0</td>\n",
       "      <td>2.0</td>\n",
       "      <td>وأخيرا السعودية تسمح للنساء بقيادة السيارة</td>\n",
       "    </tr>\n",
       "    <tr>\n",
       "      <th>319</th>\n",
       "      <td>img323.jpg</td>\n",
       "      <td>hate_speech</td>\n",
       "      <td>gender</td>\n",
       "      <td>0.0</td>\n",
       "      <td>4.0</td>\n",
       "      <td>شاب البنات ولا مرة رح يعرفوا قديش صعب الواحد ي...</td>\n",
       "    </tr>\n",
       "    <tr>\n",
       "      <th>832</th>\n",
       "      <td>img1169.png</td>\n",
       "      <td>hate_speech</td>\n",
       "      <td>religion</td>\n",
       "      <td>0.0</td>\n",
       "      <td>0.0</td>\n",
       "      <td>داعشي مسلم يقوم بشق عنق كافر اخر</td>\n",
       "    </tr>\n",
       "    <tr>\n",
       "      <th>962</th>\n",
       "      <td>img1310.png</td>\n",
       "      <td>hate_speech</td>\n",
       "      <td>national_origin</td>\n",
       "      <td>0.0</td>\n",
       "      <td>2.0</td>\n",
       "      <td>الذي يجعلك تشعر باقصى درجات المحنة</td>\n",
       "    </tr>\n",
       "    <tr>\n",
       "      <th>455</th>\n",
       "      <td>img457.jpg</td>\n",
       "      <td>hate_speech</td>\n",
       "      <td>race</td>\n",
       "      <td>0.0</td>\n",
       "      <td>3.0</td>\n",
       "      <td>لجمع الاغراض المدرسية لجمع النقود لجمع العرب</td>\n",
       "    </tr>\n",
       "    <tr>\n",
       "      <th>...</th>\n",
       "      <td>...</td>\n",
       "      <td>...</td>\n",
       "      <td>...</td>\n",
       "      <td>...</td>\n",
       "      <td>...</td>\n",
       "      <td>...</td>\n",
       "    </tr>\n",
       "    <tr>\n",
       "      <th>123</th>\n",
       "      <td>img111.jpg</td>\n",
       "      <td>hate_speech</td>\n",
       "      <td>national_origin</td>\n",
       "      <td>0.0</td>\n",
       "      <td>2.0</td>\n",
       "      <td>مواطن اردني يهاجر هو ايضا بعدما وصل لوجهته هل ...</td>\n",
       "    </tr>\n",
       "    <tr>\n",
       "      <th>361</th>\n",
       "      <td>img369.jpg</td>\n",
       "      <td>hate_speech</td>\n",
       "      <td>race</td>\n",
       "      <td>0.0</td>\n",
       "      <td>3.0</td>\n",
       "      <td>عندما تشعر بالوحدة ثم تشتري آسيويين من الشبكة ...</td>\n",
       "    </tr>\n",
       "    <tr>\n",
       "      <th>704</th>\n",
       "      <td>img1034.jpg</td>\n",
       "      <td>hate_speech</td>\n",
       "      <td>race</td>\n",
       "      <td>0.0</td>\n",
       "      <td>3.0</td>\n",
       "      <td>الزنوج البشرة اليبضاء</td>\n",
       "    </tr>\n",
       "    <tr>\n",
       "      <th>248</th>\n",
       "      <td>img268.png</td>\n",
       "      <td>hate_speech</td>\n",
       "      <td>gender</td>\n",
       "      <td>0.0</td>\n",
       "      <td>4.0</td>\n",
       "      <td>الناس الي بتفكر انه النسوية هي كره للرجال</td>\n",
       "    </tr>\n",
       "    <tr>\n",
       "      <th>619</th>\n",
       "      <td>img612.jpg</td>\n",
       "      <td>hate_speech</td>\n",
       "      <td>gender</td>\n",
       "      <td>0.0</td>\n",
       "      <td>4.0</td>\n",
       "      <td>قول ورايا اقسم برب العزة اكون مطيعا للمزة اسلم...</td>\n",
       "    </tr>\n",
       "  </tbody>\n",
       "</table>\n",
       "<p>93 rows × 6 columns</p>\n",
       "</div>\n",
       "      <button class=\"colab-df-convert\" onclick=\"convertToInteractive('df-ccc1ac0d-5804-4ae5-afd3-57f856d0220e')\"\n",
       "              title=\"Convert this dataframe to an interactive table.\"\n",
       "              style=\"display:none;\">\n",
       "        \n",
       "  <svg xmlns=\"http://www.w3.org/2000/svg\" height=\"24px\"viewBox=\"0 0 24 24\"\n",
       "       width=\"24px\">\n",
       "    <path d=\"M0 0h24v24H0V0z\" fill=\"none\"/>\n",
       "    <path d=\"M18.56 5.44l.94 2.06.94-2.06 2.06-.94-2.06-.94-.94-2.06-.94 2.06-2.06.94zm-11 1L8.5 8.5l.94-2.06 2.06-.94-2.06-.94L8.5 2.5l-.94 2.06-2.06.94zm10 10l.94 2.06.94-2.06 2.06-.94-2.06-.94-.94-2.06-.94 2.06-2.06.94z\"/><path d=\"M17.41 7.96l-1.37-1.37c-.4-.4-.92-.59-1.43-.59-.52 0-1.04.2-1.43.59L10.3 9.45l-7.72 7.72c-.78.78-.78 2.05 0 2.83L4 21.41c.39.39.9.59 1.41.59.51 0 1.02-.2 1.41-.59l7.78-7.78 2.81-2.81c.8-.78.8-2.07 0-2.86zM5.41 20L4 18.59l7.72-7.72 1.47 1.35L5.41 20z\"/>\n",
       "  </svg>\n",
       "      </button>\n",
       "      \n",
       "  <style>\n",
       "    .colab-df-container {\n",
       "      display:flex;\n",
       "      flex-wrap:wrap;\n",
       "      gap: 12px;\n",
       "    }\n",
       "\n",
       "    .colab-df-convert {\n",
       "      background-color: #E8F0FE;\n",
       "      border: none;\n",
       "      border-radius: 50%;\n",
       "      cursor: pointer;\n",
       "      display: none;\n",
       "      fill: #1967D2;\n",
       "      height: 32px;\n",
       "      padding: 0 0 0 0;\n",
       "      width: 32px;\n",
       "    }\n",
       "\n",
       "    .colab-df-convert:hover {\n",
       "      background-color: #E2EBFA;\n",
       "      box-shadow: 0px 1px 2px rgba(60, 64, 67, 0.3), 0px 1px 3px 1px rgba(60, 64, 67, 0.15);\n",
       "      fill: #174EA6;\n",
       "    }\n",
       "\n",
       "    [theme=dark] .colab-df-convert {\n",
       "      background-color: #3B4455;\n",
       "      fill: #D2E3FC;\n",
       "    }\n",
       "\n",
       "    [theme=dark] .colab-df-convert:hover {\n",
       "      background-color: #434B5C;\n",
       "      box-shadow: 0px 1px 3px 1px rgba(0, 0, 0, 0.15);\n",
       "      filter: drop-shadow(0px 1px 2px rgba(0, 0, 0, 0.3));\n",
       "      fill: #FFFFFF;\n",
       "    }\n",
       "  </style>\n",
       "\n",
       "      <script>\n",
       "        const buttonEl =\n",
       "          document.querySelector('#df-ccc1ac0d-5804-4ae5-afd3-57f856d0220e button.colab-df-convert');\n",
       "        buttonEl.style.display =\n",
       "          google.colab.kernel.accessAllowed ? 'block' : 'none';\n",
       "\n",
       "        async function convertToInteractive(key) {\n",
       "          const element = document.querySelector('#df-ccc1ac0d-5804-4ae5-afd3-57f856d0220e');\n",
       "          const dataTable =\n",
       "            await google.colab.kernel.invokeFunction('convertToInteractive',\n",
       "                                                     [key], {});\n",
       "          if (!dataTable) return;\n",
       "\n",
       "          const docLinkHtml = 'Like what you see? Visit the ' +\n",
       "            '<a target=\"_blank\" href=https://colab.research.google.com/notebooks/data_table.ipynb>data table notebook</a>'\n",
       "            + ' to learn more about interactive tables.';\n",
       "          element.innerHTML = '';\n",
       "          dataTable['output_type'] = 'display_data';\n",
       "          await google.colab.output.renderOutput(dataTable, element);\n",
       "          const docLink = document.createElement('div');\n",
       "          docLink.innerHTML = docLinkHtml;\n",
       "          element.appendChild(docLink);\n",
       "        }\n",
       "      </script>\n",
       "    </div>\n",
       "  </div>\n",
       "  "
      ],
      "text/plain": [
       "       file_name    meme_type        hate_type  meme_type2  hate_type2  \\\n",
       "218   img240.jpg  hate_speech  national_origin         0.0         2.0   \n",
       "319   img323.jpg  hate_speech           gender         0.0         4.0   \n",
       "832  img1169.png  hate_speech         religion         0.0         0.0   \n",
       "962  img1310.png  hate_speech  national_origin         0.0         2.0   \n",
       "455   img457.jpg  hate_speech             race         0.0         3.0   \n",
       "..           ...          ...              ...         ...         ...   \n",
       "123   img111.jpg  hate_speech  national_origin         0.0         2.0   \n",
       "361   img369.jpg  hate_speech             race         0.0         3.0   \n",
       "704  img1034.jpg  hate_speech             race         0.0         3.0   \n",
       "248   img268.png  hate_speech           gender         0.0         4.0   \n",
       "619   img612.jpg  hate_speech           gender         0.0         4.0   \n",
       "\n",
       "                                                  text  \n",
       "218         وأخيرا السعودية تسمح للنساء بقيادة السيارة  \n",
       "319  شاب البنات ولا مرة رح يعرفوا قديش صعب الواحد ي...  \n",
       "832                   داعشي مسلم يقوم بشق عنق كافر اخر  \n",
       "962                 الذي يجعلك تشعر باقصى درجات المحنة  \n",
       "455       لجمع الاغراض المدرسية لجمع النقود لجمع العرب  \n",
       "..                                                 ...  \n",
       "123  مواطن اردني يهاجر هو ايضا بعدما وصل لوجهته هل ...  \n",
       "361  عندما تشعر بالوحدة ثم تشتري آسيويين من الشبكة ...  \n",
       "704                              الزنوج البشرة اليبضاء  \n",
       "248          الناس الي بتفكر انه النسوية هي كره للرجال  \n",
       "619  قول ورايا اقسم برب العزة اكون مطيعا للمزة اسلم...  \n",
       "\n",
       "[93 rows x 6 columns]"
      ]
     },
     "execution_count": 254,
     "metadata": {},
     "output_type": "execute_result"
    }
   ],
   "source": [
    "RANDOM_SEED = 41\n",
    "from sklearn.model_selection import train_test_split\n",
    "train_df, test_df = train_test_split(df, test_size=0.1, random_state=RANDOM_SEED)\n",
    "train_df.dropna(inplace=True)\n",
    "test_df.dropna(inplace=True)\n",
    "test_df"
   ]
  },
  {
   "cell_type": "code",
   "execution_count": null,
   "metadata": {
    "id": "0MRMA-BaUaNh"
   },
   "outputs": [],
   "source": [
    "LABELS = ['religion','ddd','national_origin','race','gender']\n",
    "one_hot_encoded = pd.get_dummies(df.hate_type2, columns=LABELS)\n"
   ]
  },
  {
   "cell_type": "code",
   "execution_count": null,
   "metadata": {
    "id": "N2AFsLBBVYRx"
   },
   "outputs": [],
   "source": [
    "train_df = pd.concat([ train_df.text, one_hot_encoded], axis=1, join='inner')\n",
    "train_df.columns = ['text'] + LABELS\n",
    "test_df = pd.concat([ test_df.text, one_hot_encoded], axis=1, join='inner')\n",
    "test_df.columns = ['text'] + LABELS"
   ]
  },
  {
   "cell_type": "code",
   "execution_count": null,
   "metadata": {
    "colab": {
     "base_uri": "https://localhost:8080/",
     "height": 424
    },
    "id": "f4uoqdt8gbw9",
    "outputId": "29cf2fc1-b946-4a84-ee43-4c64717f855f"
   },
   "outputs": [
    {
     "data": {
      "text/html": [
       "\n",
       "  <div id=\"df-4c9f1abd-69cc-41e2-8f0d-08c898803117\">\n",
       "    <div class=\"colab-df-container\">\n",
       "      <div>\n",
       "<style scoped>\n",
       "    .dataframe tbody tr th:only-of-type {\n",
       "        vertical-align: middle;\n",
       "    }\n",
       "\n",
       "    .dataframe tbody tr th {\n",
       "        vertical-align: top;\n",
       "    }\n",
       "\n",
       "    .dataframe thead th {\n",
       "        text-align: right;\n",
       "    }\n",
       "</style>\n",
       "<table border=\"1\" class=\"dataframe\">\n",
       "  <thead>\n",
       "    <tr style=\"text-align: right;\">\n",
       "      <th></th>\n",
       "      <th>text</th>\n",
       "      <th>religion</th>\n",
       "      <th>ddd</th>\n",
       "      <th>national_origin</th>\n",
       "      <th>race</th>\n",
       "      <th>gender</th>\n",
       "    </tr>\n",
       "  </thead>\n",
       "  <tbody>\n",
       "    <tr>\n",
       "      <th>985</th>\n",
       "      <td>عندما تعود للمنزل بعدما التنمر عليك لأنك اعمى</td>\n",
       "      <td>0</td>\n",
       "      <td>1</td>\n",
       "      <td>0</td>\n",
       "      <td>0</td>\n",
       "      <td>0</td>\n",
       "    </tr>\n",
       "    <tr>\n",
       "      <th>158</th>\n",
       "      <td>علما تحاصرك الشرطة الأمريكية ثم تتذكر أنك أفغاني</td>\n",
       "      <td>0</td>\n",
       "      <td>0</td>\n",
       "      <td>1</td>\n",
       "      <td>0</td>\n",
       "      <td>0</td>\n",
       "    </tr>\n",
       "    <tr>\n",
       "      <th>707</th>\n",
       "      <td>انا لست عنصري ظلي اسود</td>\n",
       "      <td>0</td>\n",
       "      <td>0</td>\n",
       "      <td>0</td>\n",
       "      <td>1</td>\n",
       "      <td>0</td>\n",
       "    </tr>\n",
       "    <tr>\n",
       "      <th>876</th>\n",
       "      <td>كل هؤلاء الاناس البيض يجعلوني اشتاق لهيروشيما</td>\n",
       "      <td>0</td>\n",
       "      <td>0</td>\n",
       "      <td>0</td>\n",
       "      <td>1</td>\n",
       "      <td>0</td>\n",
       "    </tr>\n",
       "    <tr>\n",
       "      <th>681</th>\n",
       "      <td>عندما يوم الناس بالتثاؤب هل يظن الاطرش انهم يص...</td>\n",
       "      <td>0</td>\n",
       "      <td>1</td>\n",
       "      <td>0</td>\n",
       "      <td>0</td>\n",
       "      <td>0</td>\n",
       "    </tr>\n",
       "    <tr>\n",
       "      <th>...</th>\n",
       "      <td>...</td>\n",
       "      <td>...</td>\n",
       "      <td>...</td>\n",
       "      <td>...</td>\n",
       "      <td>...</td>\n",
       "      <td>...</td>\n",
       "    </tr>\n",
       "    <tr>\n",
       "      <th>80</th>\n",
       "      <td>لما طلاب التحفيظ يطلبوا رحلة للمسبح المدرس الا...</td>\n",
       "      <td>1</td>\n",
       "      <td>0</td>\n",
       "      <td>0</td>\n",
       "      <td>0</td>\n",
       "      <td>0</td>\n",
       "    </tr>\n",
       "    <tr>\n",
       "      <th>994</th>\n",
       "      <td>حيوانات مصابة بمتلازمة داون المنغولية</td>\n",
       "      <td>0</td>\n",
       "      <td>1</td>\n",
       "      <td>0</td>\n",
       "      <td>0</td>\n",
       "      <td>0</td>\n",
       "    </tr>\n",
       "    <tr>\n",
       "      <th>908</th>\n",
       "      <td>عندما تقوم بضرب زوجتك لإجبارها على الاجهاض وتر...</td>\n",
       "      <td>0</td>\n",
       "      <td>0</td>\n",
       "      <td>0</td>\n",
       "      <td>1</td>\n",
       "      <td>0</td>\n",
       "    </tr>\n",
       "    <tr>\n",
       "      <th>931</th>\n",
       "      <td>عندما يقوم الفتى المعاق بلمسك</td>\n",
       "      <td>0</td>\n",
       "      <td>1</td>\n",
       "      <td>0</td>\n",
       "      <td>0</td>\n",
       "      <td>0</td>\n",
       "    </tr>\n",
       "    <tr>\n",
       "      <th>960</th>\n",
       "      <td>عندما تفتح الكاميرا الامامية بالخطأ</td>\n",
       "      <td>0</td>\n",
       "      <td>1</td>\n",
       "      <td>0</td>\n",
       "      <td>0</td>\n",
       "      <td>0</td>\n",
       "    </tr>\n",
       "  </tbody>\n",
       "</table>\n",
       "<p>746 rows × 6 columns</p>\n",
       "</div>\n",
       "      <button class=\"colab-df-convert\" onclick=\"convertToInteractive('df-4c9f1abd-69cc-41e2-8f0d-08c898803117')\"\n",
       "              title=\"Convert this dataframe to an interactive table.\"\n",
       "              style=\"display:none;\">\n",
       "        \n",
       "  <svg xmlns=\"http://www.w3.org/2000/svg\" height=\"24px\"viewBox=\"0 0 24 24\"\n",
       "       width=\"24px\">\n",
       "    <path d=\"M0 0h24v24H0V0z\" fill=\"none\"/>\n",
       "    <path d=\"M18.56 5.44l.94 2.06.94-2.06 2.06-.94-2.06-.94-.94-2.06-.94 2.06-2.06.94zm-11 1L8.5 8.5l.94-2.06 2.06-.94-2.06-.94L8.5 2.5l-.94 2.06-2.06.94zm10 10l.94 2.06.94-2.06 2.06-.94-2.06-.94-.94-2.06-.94 2.06-2.06.94z\"/><path d=\"M17.41 7.96l-1.37-1.37c-.4-.4-.92-.59-1.43-.59-.52 0-1.04.2-1.43.59L10.3 9.45l-7.72 7.72c-.78.78-.78 2.05 0 2.83L4 21.41c.39.39.9.59 1.41.59.51 0 1.02-.2 1.41-.59l7.78-7.78 2.81-2.81c.8-.78.8-2.07 0-2.86zM5.41 20L4 18.59l7.72-7.72 1.47 1.35L5.41 20z\"/>\n",
       "  </svg>\n",
       "      </button>\n",
       "      \n",
       "  <style>\n",
       "    .colab-df-container {\n",
       "      display:flex;\n",
       "      flex-wrap:wrap;\n",
       "      gap: 12px;\n",
       "    }\n",
       "\n",
       "    .colab-df-convert {\n",
       "      background-color: #E8F0FE;\n",
       "      border: none;\n",
       "      border-radius: 50%;\n",
       "      cursor: pointer;\n",
       "      display: none;\n",
       "      fill: #1967D2;\n",
       "      height: 32px;\n",
       "      padding: 0 0 0 0;\n",
       "      width: 32px;\n",
       "    }\n",
       "\n",
       "    .colab-df-convert:hover {\n",
       "      background-color: #E2EBFA;\n",
       "      box-shadow: 0px 1px 2px rgba(60, 64, 67, 0.3), 0px 1px 3px 1px rgba(60, 64, 67, 0.15);\n",
       "      fill: #174EA6;\n",
       "    }\n",
       "\n",
       "    [theme=dark] .colab-df-convert {\n",
       "      background-color: #3B4455;\n",
       "      fill: #D2E3FC;\n",
       "    }\n",
       "\n",
       "    [theme=dark] .colab-df-convert:hover {\n",
       "      background-color: #434B5C;\n",
       "      box-shadow: 0px 1px 3px 1px rgba(0, 0, 0, 0.15);\n",
       "      filter: drop-shadow(0px 1px 2px rgba(0, 0, 0, 0.3));\n",
       "      fill: #FFFFFF;\n",
       "    }\n",
       "  </style>\n",
       "\n",
       "      <script>\n",
       "        const buttonEl =\n",
       "          document.querySelector('#df-4c9f1abd-69cc-41e2-8f0d-08c898803117 button.colab-df-convert');\n",
       "        buttonEl.style.display =\n",
       "          google.colab.kernel.accessAllowed ? 'block' : 'none';\n",
       "\n",
       "        async function convertToInteractive(key) {\n",
       "          const element = document.querySelector('#df-4c9f1abd-69cc-41e2-8f0d-08c898803117');\n",
       "          const dataTable =\n",
       "            await google.colab.kernel.invokeFunction('convertToInteractive',\n",
       "                                                     [key], {});\n",
       "          if (!dataTable) return;\n",
       "\n",
       "          const docLinkHtml = 'Like what you see? Visit the ' +\n",
       "            '<a target=\"_blank\" href=https://colab.research.google.com/notebooks/data_table.ipynb>data table notebook</a>'\n",
       "            + ' to learn more about interactive tables.';\n",
       "          element.innerHTML = '';\n",
       "          dataTable['output_type'] = 'display_data';\n",
       "          await google.colab.output.renderOutput(dataTable, element);\n",
       "          const docLink = document.createElement('div');\n",
       "          docLink.innerHTML = docLinkHtml;\n",
       "          element.appendChild(docLink);\n",
       "        }\n",
       "      </script>\n",
       "    </div>\n",
       "  </div>\n",
       "  "
      ],
      "text/plain": [
       "                                                  text  religion  ddd  \\\n",
       "985      عندما تعود للمنزل بعدما التنمر عليك لأنك اعمى         0    1   \n",
       "158   علما تحاصرك الشرطة الأمريكية ثم تتذكر أنك أفغاني         0    0   \n",
       "707                             انا لست عنصري ظلي اسود         0    0   \n",
       "876      كل هؤلاء الاناس البيض يجعلوني اشتاق لهيروشيما         0    0   \n",
       "681  عندما يوم الناس بالتثاؤب هل يظن الاطرش انهم يص...         0    1   \n",
       "..                                                 ...       ...  ...   \n",
       "80   لما طلاب التحفيظ يطلبوا رحلة للمسبح المدرس الا...         1    0   \n",
       "994              حيوانات مصابة بمتلازمة داون المنغولية         0    1   \n",
       "908  عندما تقوم بضرب زوجتك لإجبارها على الاجهاض وتر...         0    0   \n",
       "931                      عندما يقوم الفتى المعاق بلمسك         0    1   \n",
       "960                عندما تفتح الكاميرا الامامية بالخطأ         0    1   \n",
       "\n",
       "     national_origin  race  gender  \n",
       "985                0     0       0  \n",
       "158                1     0       0  \n",
       "707                0     1       0  \n",
       "876                0     1       0  \n",
       "681                0     0       0  \n",
       "..               ...   ...     ...  \n",
       "80                 0     0       0  \n",
       "994                0     0       0  \n",
       "908                0     1       0  \n",
       "931                0     0       0  \n",
       "960                0     0       0  \n",
       "\n",
       "[746 rows x 6 columns]"
      ]
     },
     "execution_count": 257,
     "metadata": {},
     "output_type": "execute_result"
    }
   ],
   "source": [
    "train_df\n"
   ]
  },
  {
   "cell_type": "code",
   "execution_count": null,
   "metadata": {
    "colab": {
     "base_uri": "https://localhost:8080/"
    },
    "id": "kTG9zAYJ6pJL",
    "outputId": "575fac4b-d940-4260-98a6-40dad0b31f2f"
   },
   "outputs": [
    {
     "name": "stdout",
     "output_type": "stream",
     "text": [
      "93\n",
      "746\n"
     ]
    }
   ],
   "source": [
    "print(len(test_df))\n",
    "print(len(train_df))"
   ]
  },
  {
   "cell_type": "code",
   "execution_count": null,
   "metadata": {
    "id": "fynZgHQGHb07"
   },
   "outputs": [],
   "source": [
    "token_lens = [] \n",
    "def  calcualte_seq_length(df):\n",
    "  for txt in df.text:\n",
    "    tokens = txt.split()\n",
    "    token_lens.append(len(tokens))\n",
    "  return token_lens\n",
    "\n",
    "\n"
   ]
  },
  {
   "cell_type": "code",
   "execution_count": null,
   "metadata": {
    "id": "GPCg9KP5KZ5u"
   },
   "outputs": [],
   "source": [
    "max_sentence_len = 32\n",
    "sns.distplot(token_lens)"
   ]
  },
  {
   "cell_type": "markdown",
   "metadata": {
    "id": "52rftRo0DAKr"
   },
   "source": [
    "# Libraries"
   ]
  },
  {
   "cell_type": "code",
   "execution_count": null,
   "metadata": {
    "id": "H8XIp-3GDEzG"
   },
   "outputs": [],
   "source": [
    "import numpy as np\n",
    "import pandas as pd\n",
    "import tensorflow as tf\n",
    "from tensorflow import keras\n",
    "from tensorflow.keras.optimizers import Adam, SGD\n",
    "from tensorflow.keras.layers import Dense, Dropout, Bidirectional, GRU, LSTM, Conv1D, MaxPooling1D\n",
    "from tensorflow.keras.models import Sequential\n",
    "from sklearn.metrics import f1_score, jaccard_score\n"
   ]
  },
  {
   "cell_type": "markdown",
   "metadata": {
    "id": "OnR-IFAFzjZY"
   },
   "source": [
    "# Load pretrained model\n"
   ]
  },
  {
   "cell_type": "code",
   "execution_count": null,
   "metadata": {
    "id": "txft-M-T64b5"
   },
   "outputs": [],
   "source": [
    "!gdown 1P5hDh2pTeZn8-ZNdsoRjHI9V-_z24U5F"
   ]
  },
  {
   "cell_type": "code",
   "execution_count": null,
   "metadata": {
    "id": "P0iQvQp6E_3N"
   },
   "outputs": [],
   "source": [
    "import gensim \n",
    "import numpy as np\n",
    "\n",
    "class embed(object):\n",
    "    def __init__(self, path):\n",
    "        self.path = path\n",
    "        self._load_model()\n",
    "        \n",
    "    def _load_model(self):\n",
    "        self.model = gensim.models.Word2Vec.load(self.path)\n",
    "        self.vector_size = self.model.vector_size\n",
    "\n",
    "    def _embed_single(self, text, max_len):\n",
    "        embedding = [self.model.wv[i].reshape(-1, self.vector_size) for i in text.split() if i in self.model.wv]\n",
    "        if len(embedding) == 0:\n",
    "            return self._pad(np.zeros((1, self.vector_size)), max_len)\n",
    "        embedding = np.concatenate(embedding, axis=0)\n",
    "        return self._pad(embedding, max_len)\n",
    "                    \n",
    "    def embed_batch(self, text_list, max_len):\n",
    "        batch = [self._embed_single(i, max_len) for i in text_list]\n",
    "        return np.concatenate(batch)\n",
    "    \n",
    "    def _pad(self, array, max_len):\n",
    "        if array.shape[0] >= max_len:\n",
    "            return np.expand_dims(array[:max_len],0)\n",
    "        else:\n",
    "            padding_size = max_len - array.shape[0]\n",
    "            return np.expand_dims(np.pad(array, [(0, padding_size), (0, 0)], mode='constant', constant_values=0), 0)"
   ]
  },
  {
   "cell_type": "code",
   "execution_count": null,
   "metadata": {
    "id": "ZJdjN6-8CEtG"
   },
   "outputs": [],
   "source": [
    "!unzip '/content/full_uni_cbow_300_twitter.zip'"
   ]
  },
  {
   "cell_type": "code",
   "execution_count": null,
   "metadata": {
    "id": "nOMGcoBDCst5"
   },
   "outputs": [],
   "source": [
    "# Load Aravec \n",
    "embedd_path = '/content/full_uni_cbow_300_twitter.mdl'\n",
    "embedd_size = 300\n",
    "\n",
    "embedder = embed(embedd_path)"
   ]
  },
  {
   "cell_type": "code",
   "execution_count": null,
   "metadata": {
    "id": "XurTf9E3Na3S"
   },
   "outputs": [],
   "source": [
    "model_path = '/content/bi_lstm.best.hdf5'"
   ]
  },
  {
   "cell_type": "code",
   "execution_count": null,
   "metadata": {
    "id": "k5tlgPUUFS6y"
   },
   "outputs": [],
   "source": [
    "X_train = np.array(train_df.text)\n",
    "Y_train = train_df[train_df.columns[1:]] .values\n",
    "\n",
    "X_test = np.array(test_df.text)\n",
    "Y_test = test_df[test_df.columns[1:]].values"
   ]
  },
  {
   "cell_type": "markdown",
   "metadata": {
    "id": "hiB0wfWSG1Ow"
   },
   "source": [
    "# Text Vectorization"
   ]
  },
  {
   "cell_type": "code",
   "execution_count": null,
   "metadata": {
    "id": "SAT90RrlGvNy"
   },
   "outputs": [],
   "source": [
    "X_train = embedder.embed_batch(X_train, max_sentence_len)\n",
    "X_test = embedder.embed_batch(X_test, max_sentence_len)"
   ]
  },
  {
   "cell_type": "code",
   "execution_count": null,
   "metadata": {
    "colab": {
     "base_uri": "https://localhost:8080/"
    },
    "id": "TKdsmHcxLHey",
    "outputId": "8cc8ff05-bb93-4f52-c22f-18e165b31ac2"
   },
   "outputs": [
    {
     "data": {
      "text/plain": [
       "array([[-1.59730077, -1.3827641 ,  1.41903377, ..., -0.54037917,\n",
       "        -0.41351718, -1.19467378],\n",
       "       [ 0.18917535,  0.21022914,  0.27649844, ...,  0.67310119,\n",
       "        -0.29622129,  0.85761559],\n",
       "       [-0.79382247,  2.16114664,  0.74110085, ..., -0.12027304,\n",
       "         0.22823174, -0.84119111],\n",
       "       ...,\n",
       "       [ 0.        ,  0.        ,  0.        , ...,  0.        ,\n",
       "         0.        ,  0.        ],\n",
       "       [ 0.        ,  0.        ,  0.        , ...,  0.        ,\n",
       "         0.        ,  0.        ],\n",
       "       [ 0.        ,  0.        ,  0.        , ...,  0.        ,\n",
       "         0.        ,  0.        ]])"
      ]
     },
     "execution_count": 303,
     "metadata": {},
     "output_type": "execute_result"
    }
   ],
   "source": [
    "X_train[1]"
   ]
  },
  {
   "cell_type": "markdown",
   "metadata": {
    "id": "xaDmIduyPFCa"
   },
   "source": [
    "# Create & Train model"
   ]
  },
  {
   "cell_type": "code",
   "execution_count": null,
   "metadata": {
    "id": "DJDqBKYzLMer"
   },
   "outputs": [],
   "source": [
    "def create_model(max_sentence_len, embedd_size, num_labels=5):\n",
    "    sentence = keras.Input(shape=(max_sentence_len, embedd_size), name='sentence')\n",
    "    forward_layer = GRU(300)\n",
    "    backward_layer = GRU(300, go_backwards=True)\n",
    "\n",
    "    model = Sequential()\n",
    "    model.add(sentence)\n",
    "    \n",
    "    model.add(Bidirectional(forward_layer, backward_layer=backward_layer))\n",
    "    model.add(Dense(300, activation='relu'))\n",
    "    model.add(Dropout(0.2))\n",
    "    model.add(Dense(num_labels, activation='softmax'))\n",
    "    model.compile(optimizer=Adam(0.009), loss='binary_crossentropy', metrics=['accuracy'])\n",
    "\n",
    "    return model"
   ]
  },
  {
   "cell_type": "code",
   "execution_count": null,
   "metadata": {
    "id": "UosAj9bPLjeE"
   },
   "outputs": [],
   "source": [
    "earlystopping_callback = keras.callbacks.EarlyStopping(monitor='val_accuracy', patience=3)\n",
    "checkpoint_callback = keras.callbacks.ModelCheckpoint(\n",
    "    filepath=model_path,\n",
    "    monitor='val_accuracy',\n",
    "    mode='max',\n",
    "    save_weights_only=True,\n",
    "    save_best_only=True,\n",
    "    verbose=1)"
   ]
  },
  {
   "cell_type": "code",
   "execution_count": null,
   "metadata": {
    "id": "00mpGE5DNqFa"
   },
   "outputs": [],
   "source": [
    "model = create_model(max_sentence_len, embedd_size)\n",
    "history = model.fit(X_train,\n",
    "          Y_train,\n",
    "          epochs=20,\n",
    "          batch_size=15,\n",
    "          validation_data = (X_test, Y_test),\n",
    "          shuffle=True, \n",
    "          callbacks=[earlystopping_callback, checkpoint_callback])"
   ]
  },
  {
   "cell_type": "code",
   "execution_count": null,
   "metadata": {
    "colab": {
     "base_uri": "https://localhost:8080/",
     "height": 295
    },
    "id": "VrOBdwzRjA2q",
    "outputId": "92b5393c-e73f-4b6b-d8d2-e66f37aece8e"
   },
   "outputs": [
    {
     "data": {
      "image/png": "[encoded data removed]",
      "text/plain": [
       "<Figure size 432x288 with 1 Axes>"
      ]
     },
     "metadata": {
      "needs_background": "light"
     },
     "output_type": "display_data"
    }
   ],
   "source": [
    "plt.plot(history.history['loss'])\n",
    "plt.plot(history.history['val_loss'])\n",
    "plt.legend(['training', 'validation'])\n",
    "plt.title('loss')\n",
    "plt.xlabel('Epoch')\n",
    "plt.show()"
   ]
  },
  {
   "cell_type": "code",
   "execution_count": null,
   "metadata": {
    "colab": {
     "base_uri": "https://localhost:8080/",
     "height": 295
    },
    "id": "oqR0Iua0jGrI",
    "outputId": "59e1cf63-b8e0-413a-c768-161975f5798d"
   },
   "outputs": [
    {
     "data": {
      "image/png": "[encoded data removed]",
      "text/plain": [
       "<Figure size 432x288 with 1 Axes>"
      ]
     },
     "metadata": {
      "needs_background": "light"
     },
     "output_type": "display_data"
    }
   ],
   "source": [
    "plt.plot(history.history['accuracy'])\n",
    "plt.plot(history.history['val_accuracy'])\n",
    "plt.legend(['training', 'validation'])\n",
    "plt.title('accuracy')\n",
    "plt.xlabel('Epoch')\n",
    "plt.show()"
   ]
  },
  {
   "cell_type": "code",
   "execution_count": null,
   "metadata": {
    "id": "xKcJfQ4qhmm1"
   },
   "outputs": [],
   "source": [
    "from sklearn.metrics import f1_score, precision_score, recall_score\n",
    "preds = model.predict(X_test) > 0.5\n",
    "\n",
    "print(\"F1 macro:   {}\".format(round(f1_score(Y_test, preds, average=\"macro\"), 3)))\n",
    "print(\"F1 micro:   {}\".format(round(f1_score(Y_test, preds, average=\"micro\"), 3)))\n",
    "print(\"Recall: {}\".format(round(recall_score(Y_test, preds, average=\"macro\"), 3)))\n",
    "print(\"Precision: {}\".format(round(precision_score(Y_test, preds, average=\"macro\"), 3)))"
   ]
  }
 ],
 "metadata": {
  "accelerator": "GPU",
  "colab": {
   "collapsed_sections": [],
   "name": "LSTM_GP(task_b).ipynb",
   "provenance": []
  },
  "kernelspec": {
   "display_name": "Python 3 (ipykernel)",
   "language": "python",
   "name": "python3"
  },
  "language_info": {
   "codemirror_mode": {
    "name": "ipython",
    "version": 3
   },
   "file_extension": ".py",
   "mimetype": "text/x-python",
   "name": "python",
   "nbconvert_exporter": "python",
   "pygments_lexer": "ipython3",
   "version": "3.9.7"
  }
 },
 "nbformat": 4,
 "nbformat_minor": 1
}
