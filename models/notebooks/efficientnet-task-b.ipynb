{
  "nbformat": 4,
  "nbformat_minor": 0,
  "metadata": {
    "colab": {
      "name": "VGG-16 GP Hate-type.ipynb",
      "provenance": []
    },
    "kernelspec": {
      "name": "python3",
      "display_name": "Python 3"
    },
    "language_info": {
      "name": "python"
    },
    "accelerator": "GPU"
  },
  "cells": [
    {
      "cell_type": "code",
      "execution_count": null,
      "metadata": {
        "id": "sXJwtZeAfHih"
      },
      "outputs": [],
      "source": [
        "!gdown --id 1_Zds0QWmbn7bYn3iGrS1gyTLv33ZmwzU"
      ]
    },
    {
      "cell_type": "code",
      "execution_count": null,
      "metadata": {
        "id": "YmIca6OeoJsD"
      },
      "outputs": [],
      "source": [
        "!unzip \"/content/Memes-final.zip\"\n",
        "!rm Memes-final.zip"
      ]
    },
    {
      "cell_type": "code",
      "source": [
        "!mv Memes\\ \\(final\\) Memes-final"
      ],
      "metadata": {
        "id": "5zCLbPmhGV-Z"
      },
      "execution_count": null,
      "outputs": []
    },
    {
      "cell_type": "code",
      "source": [
        "!pip install evaluation"
      ],
      "metadata": {
        "id": "XyKw1_ar3r0e"
      },
      "execution_count": null,
      "outputs": []
    },
    {
      "cell_type": "code",
      "source": [
        "import pandas as pd\n",
        "import tensorflow_hub as hub\n",
        "import tensorflow as tf\n",
        "import numpy as np\n",
        "import keras\n",
        "import tensorflow.keras.layers as layers\n",
        "from tensorflow.keras.models import Model\n",
        "from tensorflow.keras.preprocessing.image import load_img, img_to_array\n",
        "from tensorflow.keras.applications.vgg16 import VGG16\n",
        "from tensorflow.keras.applications import ResNet152, EfficientNetV2L\n",
        "from tensorflow.keras import regularizers\n",
        "from tensorflow.keras.utils import to_categorical\n",
        "from tensorflow.keras.optimizers import Adam\n",
        "from sklearn.model_selection import train_test_split\n",
        "\n",
        "\n",
        "import os\n",
        "import gc\n",
        "import shutil "
      ],
      "metadata": {
        "id": "ZY6JxR6KKWS0"
      },
      "execution_count": null,
      "outputs": []
    },
    {
      "cell_type": "code",
      "source": [
        "#path\n",
        "# csv_path_test = '/content/MAMI/TEST/Test.csv'\n",
        "# csv_path_train = '/content/MAMI/TRAINING/training.csv'\n",
        "image_path = '/content/Memes-final/'"
      ],
      "metadata": {
        "id": "KfgApz0gKfTL"
      },
      "execution_count": null,
      "outputs": []
    },
    {
      "cell_type": "code",
      "source": [
        "batch_size = 32\n",
        "epochs = 50\n",
        "image_size = 224"
      ],
      "metadata": {
        "id": "oJUs9EvnKgS_"
      },
      "execution_count": null,
      "outputs": []
    },
    {
      "cell_type": "code",
      "source": [
        "def loadImage(image_path): # /content/MAMI/TRAINING\n",
        "    try:\n",
        "        return load_img(image_path, target_size=(image_size, image_size))\n",
        "    except:\n",
        "        image_path = image_path.replace('png', 'jpg')\n",
        "        return load_img(image_path, target_size=(image_size, image_size))"
      ],
      "metadata": {
        "id": "gatGW1WyKzkX"
      },
      "execution_count": null,
      "outputs": []
    },
    {
      "cell_type": "code",
      "source": [
        "train_df = pd.read_excel('/content/Memes-final/final.xlsx')\n",
        "train_df.drop(columns=['Unnamed: 0', 'Unnamed: 0.1'], inplace=True)\n",
        "# train_df.dropna(inplace=True)\n",
        "\n",
        "path = image_path+'/'\n",
        "\n",
        "train_df['image_path'] = path + train_df['file_name']"
      ],
      "metadata": {
        "id": "Osq1ZxizLN8k"
      },
      "execution_count": null,
      "outputs": []
    },
    {
      "cell_type": "code",
      "source": [
        "train_df"
      ],
      "metadata": {
        "id": "mn9EpA6DLXpO"
      },
      "execution_count": null,
      "outputs": []
    },
    {
      "cell_type": "code",
      "source": [
        "train_df['image'] = None\n",
        "train_df['image'] = train_df['image_path'].apply(lambda x: img_to_array(loadImage(x))) "
      ],
      "metadata": {
        "id": "6AFPLfJ-4d2l"
      },
      "execution_count": null,
      "outputs": []
    },
    {
      "cell_type": "code",
      "source": [
        "train_df, test_df = train_test_split(train_df, test_size=0.1, random_state=41)"
      ],
      "metadata": {
        "id": "WS7fwDnm8zvh"
      },
      "execution_count": null,
      "outputs": []
    },
    {
      "cell_type": "code",
      "source": [
        "train_df.dropna(inplace=True)\n",
        "test_df.dropna(inplace=True)"
      ],
      "metadata": {
        "id": "r3ofjp0FOnmd"
      },
      "execution_count": null,
      "outputs": []
    },
    {
      "cell_type": "code",
      "source": [
        "print(len(train_df))\n",
        "len(test_df)"
      ],
      "metadata": {
        "colab": {
          "base_uri": "https://localhost:8080/"
        },
        "id": "FfchiIrMN1UJ",
        "outputId": "14735670-e17b-42ed-af8d-efdfb1241752"
      },
      "execution_count": null,
      "outputs": [
        {
          "output_type": "stream",
          "name": "stdout",
          "text": [
            "746\n"
          ]
        },
        {
          "output_type": "execute_result",
          "data": {
            "text/plain": [
              "93"
            ]
          },
          "metadata": {},
          "execution_count": 76
        }
      ]
    },
    {
      "cell_type": "code",
      "source": [
        "X_train = train_df[['file_name', 'image']]\n",
        "y_train = train_df['hate_type2']\n",
        "\n",
        "X_test = test_df[['file_name', 'image']]\n",
        "y_test = test_df['hate_type2']"
      ],
      "metadata": {
        "id": "6i0_qLEA5BEt"
      },
      "execution_count": null,
      "outputs": []
    },
    {
      "cell_type": "code",
      "source": [
        "tmp = []\n",
        "for value in X_train['image']:\n",
        "  tmp.append(value) \n",
        "iX_train = np.array(tmp)"
      ],
      "metadata": {
        "id": "7o9LopK55bW1"
      },
      "execution_count": null,
      "outputs": []
    },
    {
      "cell_type": "code",
      "source": [
        "y_train = to_categorical(y_train, 5)"
      ],
      "metadata": {
        "id": "9dNdp_r27bha"
      },
      "execution_count": null,
      "outputs": []
    },
    {
      "cell_type": "code",
      "source": [
        "tmp = []\n",
        "for value in X_test['image']:\n",
        "  tmp.append(value) \n",
        "iX_test = np.array(tmp)"
      ],
      "metadata": {
        "id": "sjOZQBu49VBc"
      },
      "execution_count": null,
      "outputs": []
    },
    {
      "cell_type": "code",
      "source": [
        "y_test= to_categorical(y_test, 5)"
      ],
      "metadata": {
        "id": "lggQIQ2h9Z5F"
      },
      "execution_count": null,
      "outputs": []
    },
    {
      "cell_type": "code",
      "source": [
        "# tmp = []\n",
        "# for value in y_train:\n",
        "#     tmp.append([value])  \n",
        "# y_train = np.array(tmp)"
      ],
      "metadata": {
        "id": "kYBBlKh456Ee"
      },
      "execution_count": null,
      "outputs": []
    },
    {
      "cell_type": "code",
      "source": [
        "model_path = '/content/Best_model'\n",
        "\n",
        "# earlystopping_callback = keras.callbacks.EarlyStopping(monitor='val_accuracy', patience=5)\n",
        "checkpoint_callback = keras.callbacks.ModelCheckpoint(\n",
        "    filepath=model_path,\n",
        "    monitor='val_accuracy',\n",
        "    mode='max',\n",
        "    save_weights_only=True,\n",
        "    save_best_only=True,\n",
        "    verbose=1)"
      ],
      "metadata": {
        "id": "YhoJwugy-o-X"
      },
      "execution_count": null,
      "outputs": []
    },
    {
      "cell_type": "code",
      "source": [
        "#_______________________________IMAGE MODEL_______________________________\n",
        "l2_strength = 1e-5\n",
        "\n",
        "input_image = layers.Input(shape=(image_size,image_size,3))\n",
        "model = EfficientNetV2L(input_tensor=input_image, weights='imagenet', include_top=False)\n",
        "\n",
        "for layer in model.layers:\n",
        "    layer.trainable = False\n",
        "\n",
        "x = model.output\n",
        "x = layers.Flatten(input_shape=model.output_shape[1:])(x)\n",
        "x = layers.Dense(350, activation='relu', kernel_regularizer=regularizers.l2(l2_strength))(x)\n",
        "x = layers.Dropout(0.3)(x)\n",
        "x = layers.Dense(128, activation='relu', kernel_regularizer=regularizers.l2(l2_strength))(x)\n",
        "x = layers.Dense(5, activation='softmax')(x)\n",
        "\n",
        "image_model = Model(model.input, x)\n",
        "\n",
        "image_model.compile(loss='categorical_crossentropy', optimizer=Adam(0.0005), metrics=['accuracy'])\n",
        "# image_model.summary()\n",
        "\n",
        "history = image_model.fit(iX_train, \n",
        "                    y_train,\n",
        "                    validation_data=(iX_test, y_test), # Remove\n",
        "                    epochs= epochs,\n",
        "                    batch_size=batch_size,\n",
        "                    callbacks=[checkpoint_callback]\n",
        ")   "
      ],
      "metadata": {
        "id": "aWmj2Ovz6JGa"
      },
      "execution_count": null,
      "outputs": []
    },
    {
      "cell_type": "code",
      "source": [
        "model_output = image_model.predict(iX_test) "
      ],
      "metadata": {
        "id": "TPSW6BSOAodi"
      },
      "execution_count": null,
      "outputs": []
    },
    {
      "cell_type": "code",
      "source": [
        "preds = []\n",
        "for out in model_output:\n",
        "  preds.append(np.argmax(out))"
      ],
      "metadata": {
        "id": "NdwWrejwBEOi"
      },
      "execution_count": null,
      "outputs": []
    },
    {
      "cell_type": "code",
      "source": [
        "labels = []\n",
        "for x in y_test:\n",
        "  labels.append(np.argmax(x))"
      ],
      "metadata": {
        "id": "hm42ZufHCv6Q"
      },
      "execution_count": null,
      "outputs": []
    },
    {
      "cell_type": "code",
      "source": [
        "from sklearn.metrics import f1_score, precision_score, recall_score\n",
        "\n",
        "print(\"F1 macro:   {}\".format(round(f1_score(labels, preds, average=\"macro\"), 3)))\n",
        "print(\"Precision:   {}\".format(precision_score(labels,preds, average=\"macro\"), 3))\n",
        "print(\"Recall:   {}\".format(recall_score(labels,preds, average=\"macro\"), 3))\n",
        "print(\"F1 micro:   {}\".format(round(f1_score(labels, preds, average=\"micro\"), 3)))"
      ],
      "metadata": {
        "id": "GKy0BqZSDHeB"
      },
      "execution_count": null,
      "outputs": []
    }
  ]
}