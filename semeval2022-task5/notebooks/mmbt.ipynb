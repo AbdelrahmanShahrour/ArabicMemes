{
  "cells": [
    {
      "cell_type": "code",
      "execution_count": null,
      "metadata": {
        "id": "KnYkz3SFfEr6"
      },
      "outputs": [],
      "source": [
        "!nvidia-smi"
      ]
    },
    {
      "cell_type": "code",
      "execution_count": null,
      "metadata": {
        "id": "NgNeAKO9d0vJ"
      },
      "outputs": [],
      "source": [
        "!pip install transformers\n",
        "!pip install simpletransformers"
      ]
    },
    {
      "cell_type": "code",
      "source": [
        "!gdown --id 1lSu7e7BmF1xUHIVMldWuKBh_10Qbsgi_ #multi_modal_classification_model\n",
        "!mv \"/content/multi_modal_classification_model.py\" \"/usr/local/lib/python3.7/dist-packages/simpletransformers/classification/multi_modal_classification_model.py\""
      ],
      "metadata": {
        "id": "lh2f3yAzSoGe"
      },
      "execution_count": null,
      "outputs": []
    },
    {
      "cell_type": "markdown",
      "source": [
        "NOTE: Run the previous two cells and restart runtime before continuing "
      ],
      "metadata": {
        "id": "n_IBYFOqTfpY"
      }
    },
    {
      "cell_type": "markdown",
      "metadata": {
        "id": "tRveoVC6tNmE"
      },
      "source": [
        "#Setup and Config"
      ]
    },
    {
      "cell_type": "code",
      "execution_count": null,
      "metadata": {
        "id": "sXJwtZeAfHih"
      },
      "outputs": [],
      "source": [
        "!gdown --id 10RR747R3UAUJCUkFvrebt6ok11iJgOqj"
      ]
    },
    {
      "cell_type": "code",
      "execution_count": null,
      "metadata": {
        "id": "YmIca6OeoJsD"
      },
      "outputs": [],
      "source": [
        "!unzip \"/content/MAMI.zip\"\n",
        "!rm MAMI.zip"
      ]
    },
    {
      "cell_type": "code",
      "execution_count": null,
      "metadata": {
        "id": "xjmsq3WleMKa"
      },
      "outputs": [],
      "source": [
        "import sklearn\n",
        "import pandas as pd\n",
        "import numpy as np\n",
        "import torch\n",
        "from sklearn.metrics import *\n",
        "from sklearn.model_selection import train_test_split\n",
        "from simpletransformers.classification import MultiModalClassificationModel, MultiModalClassificationArgs\n",
        "import seaborn as sns"
      ]
    },
    {
      "cell_type": "code",
      "execution_count": null,
      "metadata": {
        "id": "5BwbBqBbWMO3"
      },
      "outputs": [],
      "source": [
        "import logging\n",
        "\n",
        "logging.basicConfig(level=logging.INFO)\n",
        "transformers_logger = logging.getLogger(\"transformers\")\n",
        "transformers_logger.setLevel(logging.WARNING)"
      ]
    },
    {
      "cell_type": "code",
      "source": [
        "seed = 777\n",
        "\n",
        "np.random.seed(seed)\n",
        "torch.manual_seed(seed)\n",
        "torch.cuda.manual_seed(seed)\n",
        "torch.backends.cudnn.deterministic = True"
      ],
      "metadata": {
        "id": "IqtvEkMtv9Tb"
      },
      "execution_count": null,
      "outputs": []
    },
    {
      "cell_type": "markdown",
      "metadata": {
        "id": "dG8-7y6xR0yQ"
      },
      "source": [
        "#Data"
      ]
    },
    {
      "cell_type": "code",
      "execution_count": null,
      "metadata": {
        "colab": {
          "base_uri": "https://localhost:8080/"
        },
        "id": "5FMdIpL4R2Sw",
        "outputId": "7d2e9f93-170a-442c-8b83-5c1a4822729a"
      },
      "outputs": [
        {
          "output_type": "execute_result",
          "data": {
            "text/html": [
              "\n",
              "  <div id=\"df-29c170b0-072b-4642-b6da-b58468cc3014\">\n",
              "    <div class=\"colab-df-container\">\n",
              "      <div>\n",
              "<style scoped>\n",
              "    .dataframe tbody tr th:only-of-type {\n",
              "        vertical-align: middle;\n",
              "    }\n",
              "\n",
              "    .dataframe tbody tr th {\n",
              "        vertical-align: top;\n",
              "    }\n",
              "\n",
              "    .dataframe thead th {\n",
              "        text-align: right;\n",
              "    }\n",
              "</style>\n",
              "<table border=\"1\" class=\"dataframe\">\n",
              "  <thead>\n",
              "    <tr style=\"text-align: right;\">\n",
              "      <th></th>\n",
              "      <th>file_name</th>\n",
              "      <th>misogynous</th>\n",
              "      <th>shaming</th>\n",
              "      <th>stereotype</th>\n",
              "      <th>objectification</th>\n",
              "      <th>violence</th>\n",
              "      <th>Text Transcription</th>\n",
              "    </tr>\n",
              "  </thead>\n",
              "  <tbody>\n",
              "    <tr>\n",
              "      <th>0</th>\n",
              "      <td>1.jpg</td>\n",
              "      <td>0</td>\n",
              "      <td>0</td>\n",
              "      <td>0</td>\n",
              "      <td>0</td>\n",
              "      <td>0</td>\n",
              "      <td>Milk Milk.zip</td>\n",
              "    </tr>\n",
              "    <tr>\n",
              "      <th>1</th>\n",
              "      <td>10.jpg</td>\n",
              "      <td>1</td>\n",
              "      <td>0</td>\n",
              "      <td>0</td>\n",
              "      <td>0</td>\n",
              "      <td>1</td>\n",
              "      <td>ROSES ARE RED, VIOLETS ARE BLUE IF YOU DON'T S...</td>\n",
              "    </tr>\n",
              "    <tr>\n",
              "      <th>2</th>\n",
              "      <td>1000.jpg</td>\n",
              "      <td>0</td>\n",
              "      <td>0</td>\n",
              "      <td>0</td>\n",
              "      <td>0</td>\n",
              "      <td>0</td>\n",
              "      <td>BREAKING NEWS: Russia releases photo of DONALD...</td>\n",
              "    </tr>\n",
              "    <tr>\n",
              "      <th>3</th>\n",
              "      <td>10000.jpg</td>\n",
              "      <td>0</td>\n",
              "      <td>0</td>\n",
              "      <td>0</td>\n",
              "      <td>0</td>\n",
              "      <td>0</td>\n",
              "      <td>MAN SEEKING WOMAN Ignad 18 O</td>\n",
              "    </tr>\n",
              "    <tr>\n",
              "      <th>4</th>\n",
              "      <td>10006.jpg</td>\n",
              "      <td>0</td>\n",
              "      <td>0</td>\n",
              "      <td>0</td>\n",
              "      <td>0</td>\n",
              "      <td>0</td>\n",
              "      <td>Me explaining the deep lore of. J.R.R. Tolkein...</td>\n",
              "    </tr>\n",
              "    <tr>\n",
              "      <th>...</th>\n",
              "      <td>...</td>\n",
              "      <td>...</td>\n",
              "      <td>...</td>\n",
              "      <td>...</td>\n",
              "      <td>...</td>\n",
              "      <td>...</td>\n",
              "      <td>...</td>\n",
              "    </tr>\n",
              "    <tr>\n",
              "      <th>9995</th>\n",
              "      <td>15002.jpg</td>\n",
              "      <td>0</td>\n",
              "      <td>0</td>\n",
              "      <td>0</td>\n",
              "      <td>0</td>\n",
              "      <td>0</td>\n",
              "      <td>WAITING FOR THE END OF THE COVID  imgflip.com</td>\n",
              "    </tr>\n",
              "    <tr>\n",
              "      <th>9996</th>\n",
              "      <td>15003.jpg</td>\n",
              "      <td>0</td>\n",
              "      <td>0</td>\n",
              "      <td>0</td>\n",
              "      <td>0</td>\n",
              "      <td>0</td>\n",
              "      <td>SMART WOMEN ARE AROUND  imgflip.com</td>\n",
              "    </tr>\n",
              "    <tr>\n",
              "      <th>9997</th>\n",
              "      <td>15004.jpg</td>\n",
              "      <td>0</td>\n",
              "      <td>0</td>\n",
              "      <td>0</td>\n",
              "      <td>0</td>\n",
              "      <td>0</td>\n",
              "      <td>GOOD GIRLS ARE BEHIND THE CORNER  imgflip.com</td>\n",
              "    </tr>\n",
              "    <tr>\n",
              "      <th>9998</th>\n",
              "      <td>15005.jpg</td>\n",
              "      <td>0</td>\n",
              "      <td>0</td>\n",
              "      <td>0</td>\n",
              "      <td>0</td>\n",
              "      <td>0</td>\n",
              "      <td>COOKING FOR MY WIFE  imgflip.com</td>\n",
              "    </tr>\n",
              "    <tr>\n",
              "      <th>9999</th>\n",
              "      <td>15006.jpg</td>\n",
              "      <td>0</td>\n",
              "      <td>0</td>\n",
              "      <td>0</td>\n",
              "      <td>0</td>\n",
              "      <td>0</td>\n",
              "      <td>LISTEN TOMORROW WILL BE MONDAY imgflip.com FRO...</td>\n",
              "    </tr>\n",
              "  </tbody>\n",
              "</table>\n",
              "<p>10000 rows × 7 columns</p>\n",
              "</div>\n",
              "      <button class=\"colab-df-convert\" onclick=\"convertToInteractive('df-29c170b0-072b-4642-b6da-b58468cc3014')\"\n",
              "              title=\"Convert this dataframe to an interactive table.\"\n",
              "              style=\"display:none;\">\n",
              "        \n",
              "  <svg xmlns=\"http://www.w3.org/2000/svg\" height=\"24px\"viewBox=\"0 0 24 24\"\n",
              "       width=\"24px\">\n",
              "    <path d=\"M0 0h24v24H0V0z\" fill=\"none\"/>\n",
              "    <path d=\"M18.56 5.44l.94 2.06.94-2.06 2.06-.94-2.06-.94-.94-2.06-.94 2.06-2.06.94zm-11 1L8.5 8.5l.94-2.06 2.06-.94-2.06-.94L8.5 2.5l-.94 2.06-2.06.94zm10 10l.94 2.06.94-2.06 2.06-.94-2.06-.94-.94-2.06-.94 2.06-2.06.94z\"/><path d=\"M17.41 7.96l-1.37-1.37c-.4-.4-.92-.59-1.43-.59-.52 0-1.04.2-1.43.59L10.3 9.45l-7.72 7.72c-.78.78-.78 2.05 0 2.83L4 21.41c.39.39.9.59 1.41.59.51 0 1.02-.2 1.41-.59l7.78-7.78 2.81-2.81c.8-.78.8-2.07 0-2.86zM5.41 20L4 18.59l7.72-7.72 1.47 1.35L5.41 20z\"/>\n",
              "  </svg>\n",
              "      </button>\n",
              "      \n",
              "  <style>\n",
              "    .colab-df-container {\n",
              "      display:flex;\n",
              "      flex-wrap:wrap;\n",
              "      gap: 12px;\n",
              "    }\n",
              "\n",
              "    .colab-df-convert {\n",
              "      background-color: #E8F0FE;\n",
              "      border: none;\n",
              "      border-radius: 50%;\n",
              "      cursor: pointer;\n",
              "      display: none;\n",
              "      fill: #1967D2;\n",
              "      height: 32px;\n",
              "      padding: 0 0 0 0;\n",
              "      width: 32px;\n",
              "    }\n",
              "\n",
              "    .colab-df-convert:hover {\n",
              "      background-color: #E2EBFA;\n",
              "      box-shadow: 0px 1px 2px rgba(60, 64, 67, 0.3), 0px 1px 3px 1px rgba(60, 64, 67, 0.15);\n",
              "      fill: #174EA6;\n",
              "    }\n",
              "\n",
              "    [theme=dark] .colab-df-convert {\n",
              "      background-color: #3B4455;\n",
              "      fill: #D2E3FC;\n",
              "    }\n",
              "\n",
              "    [theme=dark] .colab-df-convert:hover {\n",
              "      background-color: #434B5C;\n",
              "      box-shadow: 0px 1px 3px 1px rgba(0, 0, 0, 0.15);\n",
              "      filter: drop-shadow(0px 1px 2px rgba(0, 0, 0, 0.3));\n",
              "      fill: #FFFFFF;\n",
              "    }\n",
              "  </style>\n",
              "\n",
              "      <script>\n",
              "        const buttonEl =\n",
              "          document.querySelector('#df-29c170b0-072b-4642-b6da-b58468cc3014 button.colab-df-convert');\n",
              "        buttonEl.style.display =\n",
              "          google.colab.kernel.accessAllowed ? 'block' : 'none';\n",
              "\n",
              "        async function convertToInteractive(key) {\n",
              "          const element = document.querySelector('#df-29c170b0-072b-4642-b6da-b58468cc3014');\n",
              "          const dataTable =\n",
              "            await google.colab.kernel.invokeFunction('convertToInteractive',\n",
              "                                                     [key], {});\n",
              "          if (!dataTable) return;\n",
              "\n",
              "          const docLinkHtml = 'Like what you see? Visit the ' +\n",
              "            '<a target=\"_blank\" href=https://colab.research.google.com/notebooks/data_table.ipynb>data table notebook</a>'\n",
              "            + ' to learn more about interactive tables.';\n",
              "          element.innerHTML = '';\n",
              "          dataTable['output_type'] = 'display_data';\n",
              "          await google.colab.output.renderOutput(dataTable, element);\n",
              "          const docLink = document.createElement('div');\n",
              "          docLink.innerHTML = docLinkHtml;\n",
              "          element.appendChild(docLink);\n",
              "        }\n",
              "      </script>\n",
              "    </div>\n",
              "  </div>\n",
              "  "
            ],
            "text/plain": [
              "      file_name  ...                                 Text Transcription\n",
              "0         1.jpg  ...                                      Milk Milk.zip\n",
              "1        10.jpg  ...  ROSES ARE RED, VIOLETS ARE BLUE IF YOU DON'T S...\n",
              "2      1000.jpg  ...  BREAKING NEWS: Russia releases photo of DONALD...\n",
              "3     10000.jpg  ...                       MAN SEEKING WOMAN Ignad 18 O\n",
              "4     10006.jpg  ...  Me explaining the deep lore of. J.R.R. Tolkein...\n",
              "...         ...  ...                                                ...\n",
              "9995  15002.jpg  ...      WAITING FOR THE END OF THE COVID  imgflip.com\n",
              "9996  15003.jpg  ...                SMART WOMEN ARE AROUND  imgflip.com\n",
              "9997  15004.jpg  ...      GOOD GIRLS ARE BEHIND THE CORNER  imgflip.com\n",
              "9998  15005.jpg  ...                   COOKING FOR MY WIFE  imgflip.com\n",
              "9999  15006.jpg  ...  LISTEN TOMORROW WILL BE MONDAY imgflip.com FRO...\n",
              "\n",
              "[10000 rows x 7 columns]"
            ]
          },
          "metadata": {},
          "execution_count": 7
        }
      ],
      "source": [
        "df = pd.read_csv('/content/MAMI/TRAINING/training.csv', sep='\\t')\n",
        "df"
      ]
    },
    {
      "cell_type": "code",
      "execution_count": null,
      "metadata": {
        "id": "BkU4BeLUR8Hq"
      },
      "outputs": [],
      "source": [
        "import nltk\n",
        "import re \n",
        "from nltk import word_tokenize\n",
        "\n",
        "nltk.download('punkt')\n",
        "\n",
        "def preprocess_text(text):\n",
        "  # Remove extra whitespaces\n",
        "  text = text.strip()\n",
        "\n",
        "  # Remove twitter usernames, web addresses\n",
        "  text = text = re.sub(r\"#[\\w\\d]*|@[.]?[\\w\\d]*[\\'\\w*]*|https?:\\/\\/\\S+\\b|\"r\"www\\.(\\w+\\.)+\\S*|\", '', text)\n",
        "\n",
        "  # Remove html tags\n",
        "  text = re.sub(re.compile('<.*?>'), ' ', text)\n",
        "\n",
        "  # Remove unwanted characters\n",
        "  text = word_tokenize(text)\n",
        "  text = ' '.join(word for word in text if word.isalpha() or word.isnumeric() or word.isalnum())\n",
        "  \n",
        "  return text"
      ]
    },
    {
      "cell_type": "code",
      "execution_count": null,
      "metadata": {
        "id": "1NQFenUPSBKU"
      },
      "outputs": [],
      "source": [
        "train_images = np.array(df['file_name'])\n",
        "train_text = np.array([preprocess_text(text) for text in df['Text Transcription']])\n",
        "train_labels = np.array(df.misogynous)"
      ]
    },
    {
      "cell_type": "code",
      "execution_count": null,
      "metadata": {
        "id": "KizofxWHSEx8"
      },
      "outputs": [],
      "source": [
        "train_data = []\n",
        "\n",
        "for i in range(len(df)):\n",
        "  train_data.append([train_images[i], train_text[i], train_labels[i]])"
      ]
    },
    {
      "cell_type": "code",
      "execution_count": null,
      "metadata": {
        "colab": {
          "base_uri": "https://localhost:8080/"
        },
        "id": "_yeKD8-VSRQC",
        "outputId": "0483c172-c669-407b-dc78-1466669a412c"
      },
      "outputs": [
        {
          "output_type": "execute_result",
          "data": {
            "text/html": [
              "\n",
              "  <div id=\"df-713282e9-e47f-4f8e-8e48-897bd8b638bb\">\n",
              "    <div class=\"colab-df-container\">\n",
              "      <div>\n",
              "<style scoped>\n",
              "    .dataframe tbody tr th:only-of-type {\n",
              "        vertical-align: middle;\n",
              "    }\n",
              "\n",
              "    .dataframe tbody tr th {\n",
              "        vertical-align: top;\n",
              "    }\n",
              "\n",
              "    .dataframe thead th {\n",
              "        text-align: right;\n",
              "    }\n",
              "</style>\n",
              "<table border=\"1\" class=\"dataframe\">\n",
              "  <thead>\n",
              "    <tr style=\"text-align: right;\">\n",
              "      <th></th>\n",
              "      <th>images</th>\n",
              "      <th>text</th>\n",
              "      <th>labels</th>\n",
              "    </tr>\n",
              "  </thead>\n",
              "  <tbody>\n",
              "    <tr>\n",
              "      <th>0</th>\n",
              "      <td>1.jpg</td>\n",
              "      <td>Milk</td>\n",
              "      <td>0</td>\n",
              "    </tr>\n",
              "    <tr>\n",
              "      <th>1</th>\n",
              "      <td>10.jpg</td>\n",
              "      <td>ROSES ARE RED VIOLETS ARE BLUE IF YOU DO SAY Y...</td>\n",
              "      <td>1</td>\n",
              "    </tr>\n",
              "    <tr>\n",
              "      <th>2</th>\n",
              "      <td>1000.jpg</td>\n",
              "      <td>BREAKING NEWS Russia releases photo of DONALD ...</td>\n",
              "      <td>0</td>\n",
              "    </tr>\n",
              "    <tr>\n",
              "      <th>3</th>\n",
              "      <td>10000.jpg</td>\n",
              "      <td>MAN SEEKING WOMAN Ignad 18 O</td>\n",
              "      <td>0</td>\n",
              "    </tr>\n",
              "    <tr>\n",
              "      <th>4</th>\n",
              "      <td>10006.jpg</td>\n",
              "      <td>Me explaining the deep lore of Tolkein world o...</td>\n",
              "      <td>0</td>\n",
              "    </tr>\n",
              "    <tr>\n",
              "      <th>...</th>\n",
              "      <td>...</td>\n",
              "      <td>...</td>\n",
              "      <td>...</td>\n",
              "    </tr>\n",
              "    <tr>\n",
              "      <th>9995</th>\n",
              "      <td>15002.jpg</td>\n",
              "      <td>WAITING FOR THE END OF THE COVID</td>\n",
              "      <td>0</td>\n",
              "    </tr>\n",
              "    <tr>\n",
              "      <th>9996</th>\n",
              "      <td>15003.jpg</td>\n",
              "      <td>SMART WOMEN ARE AROUND</td>\n",
              "      <td>0</td>\n",
              "    </tr>\n",
              "    <tr>\n",
              "      <th>9997</th>\n",
              "      <td>15004.jpg</td>\n",
              "      <td>GOOD GIRLS ARE BEHIND THE CORNER</td>\n",
              "      <td>0</td>\n",
              "    </tr>\n",
              "    <tr>\n",
              "      <th>9998</th>\n",
              "      <td>15005.jpg</td>\n",
              "      <td>COOKING FOR MY WIFE</td>\n",
              "      <td>0</td>\n",
              "    </tr>\n",
              "    <tr>\n",
              "      <th>9999</th>\n",
              "      <td>15006.jpg</td>\n",
              "      <td>LISTEN TOMORROW WILL BE MONDAY FROM</td>\n",
              "      <td>0</td>\n",
              "    </tr>\n",
              "  </tbody>\n",
              "</table>\n",
              "<p>10000 rows × 3 columns</p>\n",
              "</div>\n",
              "      <button class=\"colab-df-convert\" onclick=\"convertToInteractive('df-713282e9-e47f-4f8e-8e48-897bd8b638bb')\"\n",
              "              title=\"Convert this dataframe to an interactive table.\"\n",
              "              style=\"display:none;\">\n",
              "        \n",
              "  <svg xmlns=\"http://www.w3.org/2000/svg\" height=\"24px\"viewBox=\"0 0 24 24\"\n",
              "       width=\"24px\">\n",
              "    <path d=\"M0 0h24v24H0V0z\" fill=\"none\"/>\n",
              "    <path d=\"M18.56 5.44l.94 2.06.94-2.06 2.06-.94-2.06-.94-.94-2.06-.94 2.06-2.06.94zm-11 1L8.5 8.5l.94-2.06 2.06-.94-2.06-.94L8.5 2.5l-.94 2.06-2.06.94zm10 10l.94 2.06.94-2.06 2.06-.94-2.06-.94-.94-2.06-.94 2.06-2.06.94z\"/><path d=\"M17.41 7.96l-1.37-1.37c-.4-.4-.92-.59-1.43-.59-.52 0-1.04.2-1.43.59L10.3 9.45l-7.72 7.72c-.78.78-.78 2.05 0 2.83L4 21.41c.39.39.9.59 1.41.59.51 0 1.02-.2 1.41-.59l7.78-7.78 2.81-2.81c.8-.78.8-2.07 0-2.86zM5.41 20L4 18.59l7.72-7.72 1.47 1.35L5.41 20z\"/>\n",
              "  </svg>\n",
              "      </button>\n",
              "      \n",
              "  <style>\n",
              "    .colab-df-container {\n",
              "      display:flex;\n",
              "      flex-wrap:wrap;\n",
              "      gap: 12px;\n",
              "    }\n",
              "\n",
              "    .colab-df-convert {\n",
              "      background-color: #E8F0FE;\n",
              "      border: none;\n",
              "      border-radius: 50%;\n",
              "      cursor: pointer;\n",
              "      display: none;\n",
              "      fill: #1967D2;\n",
              "      height: 32px;\n",
              "      padding: 0 0 0 0;\n",
              "      width: 32px;\n",
              "    }\n",
              "\n",
              "    .colab-df-convert:hover {\n",
              "      background-color: #E2EBFA;\n",
              "      box-shadow: 0px 1px 2px rgba(60, 64, 67, 0.3), 0px 1px 3px 1px rgba(60, 64, 67, 0.15);\n",
              "      fill: #174EA6;\n",
              "    }\n",
              "\n",
              "    [theme=dark] .colab-df-convert {\n",
              "      background-color: #3B4455;\n",
              "      fill: #D2E3FC;\n",
              "    }\n",
              "\n",
              "    [theme=dark] .colab-df-convert:hover {\n",
              "      background-color: #434B5C;\n",
              "      box-shadow: 0px 1px 3px 1px rgba(0, 0, 0, 0.15);\n",
              "      filter: drop-shadow(0px 1px 2px rgba(0, 0, 0, 0.3));\n",
              "      fill: #FFFFFF;\n",
              "    }\n",
              "  </style>\n",
              "\n",
              "      <script>\n",
              "        const buttonEl =\n",
              "          document.querySelector('#df-713282e9-e47f-4f8e-8e48-897bd8b638bb button.colab-df-convert');\n",
              "        buttonEl.style.display =\n",
              "          google.colab.kernel.accessAllowed ? 'block' : 'none';\n",
              "\n",
              "        async function convertToInteractive(key) {\n",
              "          const element = document.querySelector('#df-713282e9-e47f-4f8e-8e48-897bd8b638bb');\n",
              "          const dataTable =\n",
              "            await google.colab.kernel.invokeFunction('convertToInteractive',\n",
              "                                                     [key], {});\n",
              "          if (!dataTable) return;\n",
              "\n",
              "          const docLinkHtml = 'Like what you see? Visit the ' +\n",
              "            '<a target=\"_blank\" href=https://colab.research.google.com/notebooks/data_table.ipynb>data table notebook</a>'\n",
              "            + ' to learn more about interactive tables.';\n",
              "          element.innerHTML = '';\n",
              "          dataTable['output_type'] = 'display_data';\n",
              "          await google.colab.output.renderOutput(dataTable, element);\n",
              "          const docLink = document.createElement('div');\n",
              "          docLink.innerHTML = docLinkHtml;\n",
              "          element.appendChild(docLink);\n",
              "        }\n",
              "      </script>\n",
              "    </div>\n",
              "  </div>\n",
              "  "
            ],
            "text/plain": [
              "         images                                               text  labels\n",
              "0         1.jpg                                               Milk       0\n",
              "1        10.jpg  ROSES ARE RED VIOLETS ARE BLUE IF YOU DO SAY Y...       1\n",
              "2      1000.jpg  BREAKING NEWS Russia releases photo of DONALD ...       0\n",
              "3     10000.jpg                       MAN SEEKING WOMAN Ignad 18 O       0\n",
              "4     10006.jpg  Me explaining the deep lore of Tolkein world o...       0\n",
              "...         ...                                                ...     ...\n",
              "9995  15002.jpg                   WAITING FOR THE END OF THE COVID       0\n",
              "9996  15003.jpg                             SMART WOMEN ARE AROUND       0\n",
              "9997  15004.jpg                   GOOD GIRLS ARE BEHIND THE CORNER       0\n",
              "9998  15005.jpg                                COOKING FOR MY WIFE       0\n",
              "9999  15006.jpg                LISTEN TOMORROW WILL BE MONDAY FROM       0\n",
              "\n",
              "[10000 rows x 3 columns]"
            ]
          },
          "metadata": {},
          "execution_count": 12
        }
      ],
      "source": [
        "train_data = pd.DataFrame(train_data, columns=['images','text','labels'])\n",
        "train_data"
      ]
    },
    {
      "cell_type": "code",
      "execution_count": null,
      "metadata": {
        "id": "t8Ve2MYh_p3y"
      },
      "outputs": [],
      "source": [
        "# train_df, val_df = train_test_split(train_df, test_size=0.1)"
      ]
    },
    {
      "cell_type": "code",
      "execution_count": null,
      "metadata": {
        "colab": {
          "base_uri": "https://localhost:8080/"
        },
        "id": "gd6yNXisAFEi",
        "outputId": "bc891d55-d87e-415f-f580-4c02fe9c5dbd"
      },
      "outputs": [
        {
          "output_type": "stream",
          "name": "stdout",
          "text": [
            "10000\n"
          ]
        }
      ],
      "source": [
        "print(len(train_data))"
      ]
    },
    {
      "cell_type": "markdown",
      "metadata": {
        "id": "5cMSOYZ5SeIT"
      },
      "source": [
        "#Model"
      ]
    },
    {
      "cell_type": "code",
      "source": [
        "from sklearn.model_selection import KFold\n",
        "import sklearn"
      ],
      "metadata": {
        "id": "kSRcEZv3xN13"
      },
      "execution_count": null,
      "outputs": []
    },
    {
      "cell_type": "code",
      "source": [
        "n = 5\n",
        "kf = KFold(n_splits=n, random_state=seed, shuffle=True)\n",
        "results = []\n",
        "\n",
        "model_args = MultiModalClassificationArgs(\n",
        "    num_train_epochs=1,\n",
        "    fp16=False,\n",
        "    train_batch_size=32,\n",
        "    learning_rate=1e-5,\n",
        "    max_seq_length=64,\n",
        "    save_best_model=True,\n",
        "    overwrite_output_dir=True,\n",
        "    save_model_every_epoch=False,\n",
        "    gradient_accumulation_steps=1,\n",
        "    do_lower_case=True\n",
        ")\n",
        "\n",
        "model = MultiModalClassificationModel(\n",
        "  'bert',\n",
        "  'bert-base-uncased',\n",
        "  use_cuda=True,\n",
        "  label_list=[0,1],\n",
        "  args=model_args\n",
        ") \n",
        "\n",
        "model.config.use_return_dict = False\n",
        "\n",
        "for train_index, val_index in kf.split(train_data):\n",
        "    train_df = train_data.iloc[train_index]\n",
        "    val_df = train_data.iloc[val_index]\n",
        "    \n",
        "    model.train_model(\n",
        "        train_df, \n",
        "        image_path='/content/MAMI/TRAINING'\n",
        "    )\n",
        "\n",
        "    result, model_outputs = model.eval_model(\n",
        "        val_df, \n",
        "        acc=sklearn.metrics.accuracy_score,\n",
        "        image_path='/content/MAMI/TRAINING'\n",
        "    )\n",
        "\n",
        "    print(result['acc'])\n",
        "    results.append(result['acc'])"
      ],
      "metadata": {
        "id": "q3DXBS31xC7x"
      },
      "execution_count": null,
      "outputs": []
    },
    {
      "cell_type": "markdown",
      "source": [
        "#Val Data"
      ],
      "metadata": {
        "id": "1rUG9h4ZALQi"
      }
    },
    {
      "cell_type": "code",
      "execution_count": null,
      "metadata": {
        "id": "8Gp5sG3wAYsB"
      },
      "outputs": [],
      "source": [
        "result, model_outputs = model.eval_model(val_df, image_path='/content/MAMI/TRAINING')"
      ]
    },
    {
      "cell_type": "code",
      "execution_count": null,
      "metadata": {
        "id": "czTrc1Oh4uCZ"
      },
      "outputs": [],
      "source": [
        "np.array(val_df.text)[2]"
      ]
    },
    {
      "cell_type": "code",
      "execution_count": null,
      "metadata": {
        "id": "hSPSkDR7L4o8"
      },
      "outputs": [],
      "source": [
        "model_outputs[15]"
      ]
    },
    {
      "cell_type": "code",
      "execution_count": null,
      "metadata": {
        "id": "dL9Kwj1p4MBv"
      },
      "outputs": [],
      "source": [
        "from torch.nn.functional import softmax\n",
        "\n",
        "_, preds = torch.max(torch.tensor(model_outputs), dim=1)\n",
        "preds[2]"
      ]
    },
    {
      "cell_type": "code",
      "execution_count": null,
      "metadata": {
        "id": "4BdX3th4Nl-4"
      },
      "outputs": [],
      "source": [
        "from sklearn.metrics import f1_score\n",
        "\n",
        "val_labels = np.array(val_df.labels)\n",
        "\n",
        "print(\"F1 macro:   {}\".format(round(f1_score(val_labels, preds, average=\"macro\"), 3)))\n",
        "print(\"F1 micro:   {}\".format(round(f1_score(val_labels, preds, average=\"micro\"), 3)))"
      ]
    },
    {
      "cell_type": "markdown",
      "metadata": {
        "id": "AKCjbJd95qtl"
      },
      "source": [
        "#Predict Test Data"
      ]
    },
    {
      "cell_type": "code",
      "execution_count": null,
      "metadata": {
        "id": "9Qyw0yyuDcqX"
      },
      "outputs": [],
      "source": [
        "import pandas as pd\n",
        "import numpy as np\n",
        "\n",
        "test_df = pd.read_csv('/content/MAMI/TEST/Test.csv', sep='\\t')"
      ]
    },
    {
      "cell_type": "code",
      "source": [
        "test_df['labels'] = [1] * 1000"
      ],
      "metadata": {
        "id": "q3hwe-HpQsEp"
      },
      "execution_count": null,
      "outputs": []
    },
    {
      "cell_type": "code",
      "source": [
        "test_df.rename(columns={'file_name': 'images', 'Text Transcription': 'text'}, inplace=True)"
      ],
      "metadata": {
        "id": "tRxGoYpfQ-RD"
      },
      "execution_count": null,
      "outputs": []
    },
    {
      "cell_type": "code",
      "source": [
        "test_df['text'] =  np.array([preprocess_text(text) for text in test_df['text']])"
      ],
      "metadata": {
        "id": "3vKmpr1nujDE"
      },
      "execution_count": null,
      "outputs": []
    },
    {
      "cell_type": "markdown",
      "source": [
        "Labels here are fake. only used because model.eval_model() method requires them"
      ],
      "metadata": {
        "id": "UK4qwkTJaAVe"
      }
    },
    {
      "cell_type": "code",
      "source": [
        "test_df"
      ],
      "metadata": {
        "colab": {
          "base_uri": "https://localhost:8080/"
        },
        "id": "lYT_DPpSvEze",
        "outputId": "8b306492-486c-47df-dbd9-955ec5b6b83c"
      },
      "execution_count": null,
      "outputs": [
        {
          "output_type": "execute_result",
          "data": {
            "text/html": [
              "\n",
              "  <div id=\"df-c9f6956c-d1d2-44f2-9ad9-53b72fe5a252\">\n",
              "    <div class=\"colab-df-container\">\n",
              "      <div>\n",
              "<style scoped>\n",
              "    .dataframe tbody tr th:only-of-type {\n",
              "        vertical-align: middle;\n",
              "    }\n",
              "\n",
              "    .dataframe tbody tr th {\n",
              "        vertical-align: top;\n",
              "    }\n",
              "\n",
              "    .dataframe thead th {\n",
              "        text-align: right;\n",
              "    }\n",
              "</style>\n",
              "<table border=\"1\" class=\"dataframe\">\n",
              "  <thead>\n",
              "    <tr style=\"text-align: right;\">\n",
              "      <th></th>\n",
              "      <th>images</th>\n",
              "      <th>text</th>\n",
              "      <th>labels</th>\n",
              "    </tr>\n",
              "  </thead>\n",
              "  <tbody>\n",
              "    <tr>\n",
              "      <th>0</th>\n",
              "      <td>15236.jpg</td>\n",
              "      <td>FACEBOOK SINGLES GROUPS BELIKE WHEN A NEW WOMA...</td>\n",
              "      <td>1</td>\n",
              "    </tr>\n",
              "    <tr>\n",
              "      <th>1</th>\n",
              "      <td>15805.jpg</td>\n",
              "      <td>SO IF YOU A FEMINIST HOW CAN YOU EAT DAIRY</td>\n",
              "      <td>1</td>\n",
              "    </tr>\n",
              "    <tr>\n",
              "      <th>2</th>\n",
              "      <td>16254.jpg</td>\n",
              "      <td>WHEN A CUTE GIRL LEFT YOUR MESSAGE ON SEEN</td>\n",
              "      <td>1</td>\n",
              "    </tr>\n",
              "    <tr>\n",
              "      <th>3</th>\n",
              "      <td>16191.jpg</td>\n",
              "      <td>Photographing something you want to show every...</td>\n",
              "      <td>1</td>\n",
              "    </tr>\n",
              "    <tr>\n",
              "      <th>4</th>\n",
              "      <td>15952.jpg</td>\n",
              "      <td>HEY BABE CAN YOU MAKE ME A SANDWICH Hey babe c...</td>\n",
              "      <td>1</td>\n",
              "    </tr>\n",
              "    <tr>\n",
              "      <th>...</th>\n",
              "      <td>...</td>\n",
              "      <td>...</td>\n",
              "      <td>...</td>\n",
              "    </tr>\n",
              "    <tr>\n",
              "      <th>995</th>\n",
              "      <td>15591.jpg</td>\n",
              "      <td>IT NOT YOUR FAULT You did design the dress you...</td>\n",
              "      <td>1</td>\n",
              "    </tr>\n",
              "    <tr>\n",
              "      <th>996</th>\n",
              "      <td>15049.jpg</td>\n",
              "      <td>THINK ABOUT HOW MUCH BETTER HER SKIN IS BREATH...</td>\n",
              "      <td>1</td>\n",
              "    </tr>\n",
              "    <tr>\n",
              "      <th>997</th>\n",
              "      <td>15363.jpg</td>\n",
              "      <td>THE STEREOTYPES ARE TRUE F SHE DOES HAVE A TIG...</td>\n",
              "      <td>1</td>\n",
              "    </tr>\n",
              "    <tr>\n",
              "      <th>998</th>\n",
              "      <td>15199.jpg</td>\n",
              "      <td>DRAWS NAKED PICTURES OF BLACK WOMEN 00 0000 GE...</td>\n",
              "      <td>1</td>\n",
              "    </tr>\n",
              "    <tr>\n",
              "      <th>999</th>\n",
              "      <td>15853.jpg</td>\n",
              "      <td>You work too much Me OOL I want to be rich ok p</td>\n",
              "      <td>1</td>\n",
              "    </tr>\n",
              "  </tbody>\n",
              "</table>\n",
              "<p>1000 rows × 3 columns</p>\n",
              "</div>\n",
              "      <button class=\"colab-df-convert\" onclick=\"convertToInteractive('df-c9f6956c-d1d2-44f2-9ad9-53b72fe5a252')\"\n",
              "              title=\"Convert this dataframe to an interactive table.\"\n",
              "              style=\"display:none;\">\n",
              "        \n",
              "  <svg xmlns=\"http://www.w3.org/2000/svg\" height=\"24px\"viewBox=\"0 0 24 24\"\n",
              "       width=\"24px\">\n",
              "    <path d=\"M0 0h24v24H0V0z\" fill=\"none\"/>\n",
              "    <path d=\"M18.56 5.44l.94 2.06.94-2.06 2.06-.94-2.06-.94-.94-2.06-.94 2.06-2.06.94zm-11 1L8.5 8.5l.94-2.06 2.06-.94-2.06-.94L8.5 2.5l-.94 2.06-2.06.94zm10 10l.94 2.06.94-2.06 2.06-.94-2.06-.94-.94-2.06-.94 2.06-2.06.94z\"/><path d=\"M17.41 7.96l-1.37-1.37c-.4-.4-.92-.59-1.43-.59-.52 0-1.04.2-1.43.59L10.3 9.45l-7.72 7.72c-.78.78-.78 2.05 0 2.83L4 21.41c.39.39.9.59 1.41.59.51 0 1.02-.2 1.41-.59l7.78-7.78 2.81-2.81c.8-.78.8-2.07 0-2.86zM5.41 20L4 18.59l7.72-7.72 1.47 1.35L5.41 20z\"/>\n",
              "  </svg>\n",
              "      </button>\n",
              "      \n",
              "  <style>\n",
              "    .colab-df-container {\n",
              "      display:flex;\n",
              "      flex-wrap:wrap;\n",
              "      gap: 12px;\n",
              "    }\n",
              "\n",
              "    .colab-df-convert {\n",
              "      background-color: #E8F0FE;\n",
              "      border: none;\n",
              "      border-radius: 50%;\n",
              "      cursor: pointer;\n",
              "      display: none;\n",
              "      fill: #1967D2;\n",
              "      height: 32px;\n",
              "      padding: 0 0 0 0;\n",
              "      width: 32px;\n",
              "    }\n",
              "\n",
              "    .colab-df-convert:hover {\n",
              "      background-color: #E2EBFA;\n",
              "      box-shadow: 0px 1px 2px rgba(60, 64, 67, 0.3), 0px 1px 3px 1px rgba(60, 64, 67, 0.15);\n",
              "      fill: #174EA6;\n",
              "    }\n",
              "\n",
              "    [theme=dark] .colab-df-convert {\n",
              "      background-color: #3B4455;\n",
              "      fill: #D2E3FC;\n",
              "    }\n",
              "\n",
              "    [theme=dark] .colab-df-convert:hover {\n",
              "      background-color: #434B5C;\n",
              "      box-shadow: 0px 1px 3px 1px rgba(0, 0, 0, 0.15);\n",
              "      filter: drop-shadow(0px 1px 2px rgba(0, 0, 0, 0.3));\n",
              "      fill: #FFFFFF;\n",
              "    }\n",
              "  </style>\n",
              "\n",
              "      <script>\n",
              "        const buttonEl =\n",
              "          document.querySelector('#df-c9f6956c-d1d2-44f2-9ad9-53b72fe5a252 button.colab-df-convert');\n",
              "        buttonEl.style.display =\n",
              "          google.colab.kernel.accessAllowed ? 'block' : 'none';\n",
              "\n",
              "        async function convertToInteractive(key) {\n",
              "          const element = document.querySelector('#df-c9f6956c-d1d2-44f2-9ad9-53b72fe5a252');\n",
              "          const dataTable =\n",
              "            await google.colab.kernel.invokeFunction('convertToInteractive',\n",
              "                                                     [key], {});\n",
              "          if (!dataTable) return;\n",
              "\n",
              "          const docLinkHtml = 'Like what you see? Visit the ' +\n",
              "            '<a target=\"_blank\" href=https://colab.research.google.com/notebooks/data_table.ipynb>data table notebook</a>'\n",
              "            + ' to learn more about interactive tables.';\n",
              "          element.innerHTML = '';\n",
              "          dataTable['output_type'] = 'display_data';\n",
              "          await google.colab.output.renderOutput(dataTable, element);\n",
              "          const docLink = document.createElement('div');\n",
              "          docLink.innerHTML = docLinkHtml;\n",
              "          element.appendChild(docLink);\n",
              "        }\n",
              "      </script>\n",
              "    </div>\n",
              "  </div>\n",
              "  "
            ],
            "text/plain": [
              "        images                                               text  labels\n",
              "0    15236.jpg  FACEBOOK SINGLES GROUPS BELIKE WHEN A NEW WOMA...       1\n",
              "1    15805.jpg         SO IF YOU A FEMINIST HOW CAN YOU EAT DAIRY       1\n",
              "2    16254.jpg         WHEN A CUTE GIRL LEFT YOUR MESSAGE ON SEEN       1\n",
              "3    16191.jpg  Photographing something you want to show every...       1\n",
              "4    15952.jpg  HEY BABE CAN YOU MAKE ME A SANDWICH Hey babe c...       1\n",
              "..         ...                                                ...     ...\n",
              "995  15591.jpg  IT NOT YOUR FAULT You did design the dress you...       1\n",
              "996  15049.jpg  THINK ABOUT HOW MUCH BETTER HER SKIN IS BREATH...       1\n",
              "997  15363.jpg  THE STEREOTYPES ARE TRUE F SHE DOES HAVE A TIG...       1\n",
              "998  15199.jpg  DRAWS NAKED PICTURES OF BLACK WOMEN 00 0000 GE...       1\n",
              "999  15853.jpg    You work too much Me OOL I want to be rich ok p       1\n",
              "\n",
              "[1000 rows x 3 columns]"
            ]
          },
          "metadata": {},
          "execution_count": 23
        }
      ]
    },
    {
      "cell_type": "code",
      "execution_count": null,
      "metadata": {
        "colab": {
          "base_uri": "https://localhost:8080/",
          "referenced_widgets": [
            "cfa953fa09544c84acc8faa250e9e4b3",
            "420d7eed71c74955b6c63ddde6689a2f",
            "8f6252b3089345048658d420f32243be",
            "4baa1eec71304d53866c6b805d09d019",
            "760b34366cf54849a4a1af017e6760ba",
            "1ae3c74e5924442a8ce11f5bac2339a5",
            "8ffe72468cf749d9ab26488e560e8fdb",
            "9b48385c1cc248a5aefa162d0c7fd723",
            "512e9fd95c39481ab1869f839790660e",
            "a2092bd4e2d248c7b77cf4258dc31299",
            "6f800fa60d674e1b8eed4b215f836a1b"
          ]
        },
        "id": "JeDU0R9L5tne",
        "outputId": "b7b3e67a-30c8-4e35-c1f0-9782b9ca32f4"
      },
      "outputs": [
        {
          "output_type": "display_data",
          "data": {
            "application/vnd.jupyter.widget-view+json": {
              "model_id": "cfa953fa09544c84acc8faa250e9e4b3",
              "version_minor": 0,
              "version_major": 2
            },
            "text/plain": [
              "Running Evaluation:   0%|          | 0/125 [00:00<?, ?it/s]"
            ]
          },
          "metadata": {}
        },
        {
          "output_type": "stream",
          "name": "stderr",
          "text": [
            "INFO:simpletransformers.classification.multi_modal_classification_model:{'mcc': 0.0, 'tp': 722, 'tn': 0, 'fp': 0, 'fn': 278, 'acc': 0.936, 'eval_loss': 0.7911134588420391}\n"
          ]
        }
      ],
      "source": [
        "result, model_outputs = model.eval_model(test_df, image_path='/content/MAMI/TEST')"
      ]
    },
    {
      "cell_type": "code",
      "source": [
        "_, preds = torch.max(torch.tensor(model_outputs), dim=1) # [0.35 0.65]"
      ],
      "metadata": {
        "id": "HqfgwqIZR39S"
      },
      "execution_count": null,
      "outputs": []
    },
    {
      "cell_type": "code",
      "source": [
        "with open('answer.txt', 'w') as f:\n",
        "  for i, pred in enumerate(preds):\n",
        "    f.write(f'{test_df.images[i]}\\t{pred}\\n')"
      ],
      "metadata": {
        "id": "KmUSJzIuSAEf"
      },
      "execution_count": null,
      "outputs": []
    },
    {
      "cell_type": "markdown",
      "source": [
        "# Temp voting 3"
      ],
      "metadata": {
        "id": "swfdln1MEnij"
      }
    },
    {
      "cell_type": "code",
      "source": [
        "def hard_voting(answer1, answer2, answer3):\n",
        "  final_answer = []\n",
        "  answers = [answer1, answer2, answer3]\n",
        "\n",
        "  for i in range(len(answer1)):\n",
        "    cnt0, cnt1 = 0, 0\n",
        "    for a in answers:\n",
        "      if a[i] == '1':\n",
        "        cnt1 += 1\n",
        "      else:\n",
        "        cnt0 += 1\n",
        "        \n",
        "    if cnt1 > cnt0:\n",
        "      final_answer.append(1)\n",
        "    else:\n",
        "      final_answer.append(0)\n",
        "\n",
        "  with open('final_answer.txt', 'w') as f:\n",
        "    for i, pred in enumerate(final_answer):\n",
        "      f.write(f'{test_df.images[i]}\\t{pred}\\n')"
      ],
      "metadata": {
        "id": "emU90MiVEraU"
      },
      "execution_count": null,
      "outputs": []
    }
  ],
  "metadata": {
    "accelerator": "GPU",
    "colab": {
      "collapsed_sections": [
        "tRveoVC6tNmE"
      ],
      "machine_shape": "hm",
      "name": "MMBT Simple Transformers All labels.ipynb",
      "provenance": []
    },
    "kernelspec": {
      "display_name": "Python 3",
      "name": "python3"
    },
    "language_info": {
      "name": "python"
    },
    "widgets": {
      "application/vnd.jupyter.widget-state+json": {
        "cfa953fa09544c84acc8faa250e9e4b3": {
          "model_module": "@jupyter-widgets/controls",
          "model_name": "HBoxModel",
          "model_module_version": "1.5.0",
          "state": {
            "_view_name": "HBoxView",
            "_dom_classes": [],
            "_model_name": "HBoxModel",
            "_view_module": "@jupyter-widgets/controls",
            "_model_module_version": "1.5.0",
            "_view_count": null,
            "_view_module_version": "1.5.0",
            "box_style": "",
            "layout": "IPY_MODEL_420d7eed71c74955b6c63ddde6689a2f",
            "_model_module": "@jupyter-widgets/controls",
            "children": [
              "IPY_MODEL_8f6252b3089345048658d420f32243be",
              "IPY_MODEL_4baa1eec71304d53866c6b805d09d019",
              "IPY_MODEL_760b34366cf54849a4a1af017e6760ba"
            ]
          }
        },
        "420d7eed71c74955b6c63ddde6689a2f": {
          "model_module": "@jupyter-widgets/base",
          "model_name": "LayoutModel",
          "model_module_version": "1.2.0",
          "state": {
            "_view_name": "LayoutView",
            "grid_template_rows": null,
            "right": null,
            "justify_content": null,
            "_view_module": "@jupyter-widgets/base",
            "overflow": null,
            "_model_module_version": "1.2.0",
            "_view_count": null,
            "flex_flow": null,
            "width": null,
            "min_width": null,
            "border": null,
            "align_items": null,
            "bottom": null,
            "_model_module": "@jupyter-widgets/base",
            "top": null,
            "grid_column": null,
            "overflow_y": null,
            "overflow_x": null,
            "grid_auto_flow": null,
            "grid_area": null,
            "grid_template_columns": null,
            "flex": null,
            "_model_name": "LayoutModel",
            "justify_items": null,
            "grid_row": null,
            "max_height": null,
            "align_content": null,
            "visibility": null,
            "align_self": null,
            "height": null,
            "min_height": null,
            "padding": null,
            "grid_auto_rows": null,
            "grid_gap": null,
            "max_width": null,
            "order": null,
            "_view_module_version": "1.2.0",
            "grid_template_areas": null,
            "object_position": null,
            "object_fit": null,
            "grid_auto_columns": null,
            "margin": null,
            "display": null,
            "left": null
          }
        },
        "8f6252b3089345048658d420f32243be": {
          "model_module": "@jupyter-widgets/controls",
          "model_name": "HTMLModel",
          "model_module_version": "1.5.0",
          "state": {
            "_view_name": "HTMLView",
            "style": "IPY_MODEL_1ae3c74e5924442a8ce11f5bac2339a5",
            "_dom_classes": [],
            "description": "",
            "_model_name": "HTMLModel",
            "placeholder": "​",
            "_view_module": "@jupyter-widgets/controls",
            "_model_module_version": "1.5.0",
            "value": "Running Evaluation: 100%",
            "_view_count": null,
            "_view_module_version": "1.5.0",
            "description_tooltip": null,
            "_model_module": "@jupyter-widgets/controls",
            "layout": "IPY_MODEL_8ffe72468cf749d9ab26488e560e8fdb"
          }
        },
        "4baa1eec71304d53866c6b805d09d019": {
          "model_module": "@jupyter-widgets/controls",
          "model_name": "FloatProgressModel",
          "model_module_version": "1.5.0",
          "state": {
            "_view_name": "ProgressView",
            "style": "IPY_MODEL_9b48385c1cc248a5aefa162d0c7fd723",
            "_dom_classes": [],
            "description": "",
            "_model_name": "FloatProgressModel",
            "bar_style": "success",
            "max": 125,
            "_view_module": "@jupyter-widgets/controls",
            "_model_module_version": "1.5.0",
            "value": 125,
            "_view_count": null,
            "_view_module_version": "1.5.0",
            "orientation": "horizontal",
            "min": 0,
            "description_tooltip": null,
            "_model_module": "@jupyter-widgets/controls",
            "layout": "IPY_MODEL_512e9fd95c39481ab1869f839790660e"
          }
        },
        "760b34366cf54849a4a1af017e6760ba": {
          "model_module": "@jupyter-widgets/controls",
          "model_name": "HTMLModel",
          "model_module_version": "1.5.0",
          "state": {
            "_view_name": "HTMLView",
            "style": "IPY_MODEL_a2092bd4e2d248c7b77cf4258dc31299",
            "_dom_classes": [],
            "description": "",
            "_model_name": "HTMLModel",
            "placeholder": "​",
            "_view_module": "@jupyter-widgets/controls",
            "_model_module_version": "1.5.0",
            "value": " 125/125 [00:24&lt;00:00,  5.16it/s]",
            "_view_count": null,
            "_view_module_version": "1.5.0",
            "description_tooltip": null,
            "_model_module": "@jupyter-widgets/controls",
            "layout": "IPY_MODEL_6f800fa60d674e1b8eed4b215f836a1b"
          }
        },
        "1ae3c74e5924442a8ce11f5bac2339a5": {
          "model_module": "@jupyter-widgets/controls",
          "model_name": "DescriptionStyleModel",
          "model_module_version": "1.5.0",
          "state": {
            "_view_name": "StyleView",
            "_model_name": "DescriptionStyleModel",
            "description_width": "",
            "_view_module": "@jupyter-widgets/base",
            "_model_module_version": "1.5.0",
            "_view_count": null,
            "_view_module_version": "1.2.0",
            "_model_module": "@jupyter-widgets/controls"
          }
        },
        "8ffe72468cf749d9ab26488e560e8fdb": {
          "model_module": "@jupyter-widgets/base",
          "model_name": "LayoutModel",
          "model_module_version": "1.2.0",
          "state": {
            "_view_name": "LayoutView",
            "grid_template_rows": null,
            "right": null,
            "justify_content": null,
            "_view_module": "@jupyter-widgets/base",
            "overflow": null,
            "_model_module_version": "1.2.0",
            "_view_count": null,
            "flex_flow": null,
            "width": null,
            "min_width": null,
            "border": null,
            "align_items": null,
            "bottom": null,
            "_model_module": "@jupyter-widgets/base",
            "top": null,
            "grid_column": null,
            "overflow_y": null,
            "overflow_x": null,
            "grid_auto_flow": null,
            "grid_area": null,
            "grid_template_columns": null,
            "flex": null,
            "_model_name": "LayoutModel",
            "justify_items": null,
            "grid_row": null,
            "max_height": null,
            "align_content": null,
            "visibility": null,
            "align_self": null,
            "height": null,
            "min_height": null,
            "padding": null,
            "grid_auto_rows": null,
            "grid_gap": null,
            "max_width": null,
            "order": null,
            "_view_module_version": "1.2.0",
            "grid_template_areas": null,
            "object_position": null,
            "object_fit": null,
            "grid_auto_columns": null,
            "margin": null,
            "display": null,
            "left": null
          }
        },
        "9b48385c1cc248a5aefa162d0c7fd723": {
          "model_module": "@jupyter-widgets/controls",
          "model_name": "ProgressStyleModel",
          "model_module_version": "1.5.0",
          "state": {
            "_view_name": "StyleView",
            "_model_name": "ProgressStyleModel",
            "description_width": "",
            "_view_module": "@jupyter-widgets/base",
            "_model_module_version": "1.5.0",
            "_view_count": null,
            "_view_module_version": "1.2.0",
            "bar_color": null,
            "_model_module": "@jupyter-widgets/controls"
          }
        },
        "512e9fd95c39481ab1869f839790660e": {
          "model_module": "@jupyter-widgets/base",
          "model_name": "LayoutModel",
          "model_module_version": "1.2.0",
          "state": {
            "_view_name": "LayoutView",
            "grid_template_rows": null,
            "right": null,
            "justify_content": null,
            "_view_module": "@jupyter-widgets/base",
            "overflow": null,
            "_model_module_version": "1.2.0",
            "_view_count": null,
            "flex_flow": null,
            "width": null,
            "min_width": null,
            "border": null,
            "align_items": null,
            "bottom": null,
            "_model_module": "@jupyter-widgets/base",
            "top": null,
            "grid_column": null,
            "overflow_y": null,
            "overflow_x": null,
            "grid_auto_flow": null,
            "grid_area": null,
            "grid_template_columns": null,
            "flex": null,
            "_model_name": "LayoutModel",
            "justify_items": null,
            "grid_row": null,
            "max_height": null,
            "align_content": null,
            "visibility": null,
            "align_self": null,
            "height": null,
            "min_height": null,
            "padding": null,
            "grid_auto_rows": null,
            "grid_gap": null,
            "max_width": null,
            "order": null,
            "_view_module_version": "1.2.0",
            "grid_template_areas": null,
            "object_position": null,
            "object_fit": null,
            "grid_auto_columns": null,
            "margin": null,
            "display": null,
            "left": null
          }
        },
        "a2092bd4e2d248c7b77cf4258dc31299": {
          "model_module": "@jupyter-widgets/controls",
          "model_name": "DescriptionStyleModel",
          "model_module_version": "1.5.0",
          "state": {
            "_view_name": "StyleView",
            "_model_name": "DescriptionStyleModel",
            "description_width": "",
            "_view_module": "@jupyter-widgets/base",
            "_model_module_version": "1.5.0",
            "_view_count": null,
            "_view_module_version": "1.2.0",
            "_model_module": "@jupyter-widgets/controls"
          }
        },
        "6f800fa60d674e1b8eed4b215f836a1b": {
          "model_module": "@jupyter-widgets/base",
          "model_name": "LayoutModel",
          "model_module_version": "1.2.0",
          "state": {
            "_view_name": "LayoutView",
            "grid_template_rows": null,
            "right": null,
            "justify_content": null,
            "_view_module": "@jupyter-widgets/base",
            "overflow": null,
            "_model_module_version": "1.2.0",
            "_view_count": null,
            "flex_flow": null,
            "width": null,
            "min_width": null,
            "border": null,
            "align_items": null,
            "bottom": null,
            "_model_module": "@jupyter-widgets/base",
            "top": null,
            "grid_column": null,
            "overflow_y": null,
            "overflow_x": null,
            "grid_auto_flow": null,
            "grid_area": null,
            "grid_template_columns": null,
            "flex": null,
            "_model_name": "LayoutModel",
            "justify_items": null,
            "grid_row": null,
            "max_height": null,
            "align_content": null,
            "visibility": null,
            "align_self": null,
            "height": null,
            "min_height": null,
            "padding": null,
            "grid_auto_rows": null,
            "grid_gap": null,
            "max_width": null,
            "order": null,
            "_view_module_version": "1.2.0",
            "grid_template_areas": null,
            "object_position": null,
            "object_fit": null,
            "grid_auto_columns": null,
            "margin": null,
            "display": null,
            "left": null
          }
        }
      }
    }
  },
  "nbformat": 4,
  "nbformat_minor": 0
}